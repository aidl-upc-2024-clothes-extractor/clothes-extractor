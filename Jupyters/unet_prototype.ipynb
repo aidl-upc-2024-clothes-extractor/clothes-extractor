{
 "cells": [
  {
   "cell_type": "code",
   "execution_count": 1,
   "id": "9c1b7d6bf6777baf",
   "metadata": {
    "ExecuteTime": {
     "end_time": "2024-01-27T15:13:07.524719Z",
     "start_time": "2024-01-27T15:13:07.516577Z"
    },
    "collapsed": false,
    "jupyter": {
     "outputs_hidden": false
    }
   },
   "outputs": [],
   "source": [
    "# Check if running in colab\n",
    "try:\n",
    "  import google.colab\n",
    "  IN_COLAB = True\n",
    "except:\n",
    "  IN_COLAB = False\n",
    "  "
   ]
  },
  {
   "cell_type": "code",
   "execution_count": 2,
   "id": "78d0af22769158d4",
   "metadata": {
    "ExecuteTime": {
     "end_time": "2024-01-27T15:18:08.305644Z",
     "start_time": "2024-01-27T15:18:08.299904Z"
    },
    "collapsed": false,
    "jupyter": {
     "outputs_hidden": false
    }
   },
   "outputs": [],
   "source": [
    "if IN_COLAB :\n",
    "    # If we are in colab we don't have access to our custom modules so we clone the repository\n",
    "    !git clone https://github.com/aidl-upc-2024-clothes-extractor/clothes-extractor.git\n",
    "    # Pull last data from git\n",
    "    !cd clothes-extractor && git pull && cd ..\n"
   ]
  },
  {
   "cell_type": "code",
   "execution_count": 3,
   "id": "e4fae2ef368fcce7",
   "metadata": {
    "collapsed": false,
    "jupyter": {
     "outputs_hidden": false
    }
   },
   "outputs": [],
   "source": [
    "import numpy as np\n",
    "import torch\n",
    "from torch.utils.data import DataLoader\n",
    "import matplotlib.pyplot as plt\n",
    "import os"
   ]
  },
  {
   "cell_type": "code",
   "execution_count": 4,
   "id": "1560d122312ffd91",
   "metadata": {
    "ExecuteTime": {
     "start_time": "2024-01-27T15:06:28.104619Z"
    },
    "collapsed": false,
    "jupyter": {
     "outputs_hidden": false
    }
   },
   "outputs": [],
   "source": [
    "if IN_COLAB :\n",
    "  # Import code form our github\n",
    "  from pathlib import Path\n",
    "\n",
    "  current_folder = globals()['_dh'][0]\n",
    "  parent = Path(current_folder).parent\n",
    "  os.chdir(os.path.join(current_folder, \"clothes-extractor\"))\n",
    "  print(os.getcwd())\n",
    "  \n",
    "# Project imports\n",
    "from src.dataset import ClothesDataLoader, ClothesDataset\n",
    "from src.config import Config\n",
    "from src.model import Unet\n",
    "from src.train import train_model"
   ]
  },
  {
   "cell_type": "code",
   "execution_count": 5,
   "id": "a3c7d0ec93a4abe0",
   "metadata": {
    "ExecuteTime": {
     "end_time": "2024-01-27T14:46:12.470350Z",
     "start_time": "2024-01-27T14:46:12.466781Z"
    },
    "collapsed": false,
    "jupyter": {
     "outputs_hidden": false
    }
   },
   "outputs": [],
   "source": [
    "seed = 22\n",
    "torch.manual_seed(seed)\n",
    "torch.torch.cuda.manual_seed_all(seed)\n",
    "torch.mps.manual_seed(seed)\n",
    "\n",
    "torch.backends.cudnn.deterministic = True\n",
    "torch.backends.cudnn.benchmark = False\n",
    "np.random.seed(seed)"
   ]
  },
  {
   "cell_type": "code",
   "execution_count": 6,
   "id": "59b74cf8ab26460d",
   "metadata": {
    "ExecuteTime": {
     "end_time": "2024-01-27T14:46:12.488555Z",
     "start_time": "2024-01-27T14:46:12.486199Z"
    },
    "collapsed": false,
    "jupyter": {
     "outputs_hidden": false
    }
   },
   "outputs": [
    {
     "name": "stdout",
     "output_type": "stream",
     "text": [
      "mps\n"
     ]
    }
   ],
   "source": [
    "device = torch.device(\"cuda\" if torch.cuda.is_available() else \"cpu\")\n",
    "if torch.backends.mps.is_available() and torch.backends.mps.is_built() and torch.device != \"cuda\":\n",
    "  device = torch.device(\"mps\")\n",
    "print(device)"
   ]
  },
  {
   "cell_type": "code",
   "execution_count": 7,
   "id": "3ab671852634b590",
   "metadata": {
    "ExecuteTime": {
     "end_time": "2024-01-27T14:46:12.634027Z",
     "start_time": "2024-01-27T14:46:12.492220Z"
    },
    "collapsed": false,
    "jupyter": {
     "outputs_hidden": false
    }
   },
   "outputs": [
    {
     "name": "stdout",
     "output_type": "stream",
     "text": [
      "/Users/acabanas/dev/forks/clothes-extractor/Jupyters\n",
      "Dataset already downloaded\n"
     ]
    }
   ],
   "source": [
    "# Type here the path for the data set\n",
    "dataset_path = os.path.join(\"datasets\", \"zalando-hd-resized\")\n",
    "!pwd\n",
    "\n",
    "# Dowload the dataset only if it does not exist\n",
    "if (os.path.exists(dataset_path)):\n",
    "  print(\"Dataset already downloaded\")\n",
    "else:\n",
    "  print(\"Dowloading dataset\")\n",
    "  os.makedirs(dataset_path, exist_ok=True)\n",
    "  path_components = dataset_path.split(os.path.sep)\n",
    "  new_path = os.path.sep.join(path_components[:-1])\n",
    "  with open(\"path_check.tmp\", 'w') as file:\n",
    "    file.write(new_path)\n",
    "  !wget https://www.dropbox.com/s/10bfat0kg4si1bu/zalando-hd-resized.zip\n",
    "  !echo \"Extracting the dataset. Please wait....\"\n",
    "  !unzip zalando-hd-resized.zip -d `cat path_check.tmp` > /dev/null\n",
    "  !rm path_check.tmp\n",
    "  !rm zalando-hd-resized.zip\n",
    "  print(\"Done\")"
   ]
  },
  {
   "cell_type": "code",
   "execution_count": 8,
   "id": "28b8343d9ef226e7",
   "metadata": {
    "ExecuteTime": {
     "end_time": "2024-01-27T14:46:12.638640Z",
     "start_time": "2024-01-27T14:46:12.634345Z"
    },
    "collapsed": false,
    "jupyter": {
     "outputs_hidden": false
    }
   },
   "outputs": [],
   "source": [
    "cfg = Config()\n",
    "cfg.batch_size = 10\n",
    "cfg.dataset_dir = dataset_path\n",
    "cfg.load_height = 28\n",
    "cfg.load_width = 28\n",
    "cfg.learning_rate = 0.0002\n",
    "cfg.num_epochs = 1\n",
    "cfg.num_val_samples = 10\n",
    "cfg.num_input_channels = 1\n",
    "cfg.num_classes = 10"
   ]
  },
  {
   "cell_type": "code",
   "execution_count": 9,
   "id": "a120d52189f939bd",
   "metadata": {
    "ExecuteTime": {
     "end_time": "2024-01-27T14:46:12.643145Z",
     "start_time": "2024-01-27T14:46:12.636317Z"
    },
    "collapsed": false,
    "jupyter": {
     "outputs_hidden": false
    }
   },
   "outputs": [
    {
     "name": "stderr",
     "output_type": "stream",
     "text": [
      "/Users/acabanas/miniconda3/envs/clothes-extractor/lib/python3.11/site-packages/torchvision/transforms/functional.py:1603: UserWarning: The default value of the antialias parameter of all the resizing transforms (Resize(), RandomResizedCrop(), etc.) will change from None to True in v0.17, in order to be consistent across the PIL and Tensor backends. To suppress this warning, directly pass antialias=True (recommended, future default), antialias=None (current default, which means False for Tensors and True for PIL), or antialias=False (only works on Tensors - PIL will still use antialiasing). This also applies if you are using the inference transforms from the models weights: update the call to weights.transforms(antialias=True).\n",
      "  warnings.warn(\n",
      "/Users/acabanas/miniconda3/envs/clothes-extractor/lib/python3.11/site-packages/torchvision/transforms/functional.py:1603: UserWarning: The default value of the antialias parameter of all the resizing transforms (Resize(), RandomResizedCrop(), etc.) will change from None to True in v0.17, in order to be consistent across the PIL and Tensor backends. To suppress this warning, directly pass antialias=True (recommended, future default), antialias=None (current default, which means False for Tensors and True for PIL), or antialias=False (only works on Tensors - PIL will still use antialiasing). This also applies if you are using the inference transforms from the models weights: update the call to weights.transforms(antialias=True).\n",
      "  warnings.warn(\n"
     ]
    }
   ],
   "source": [
    "\n",
    "test_dataset = ClothesDataset(cfg, \"test\")\n",
    "train_dataset = ClothesDataset(cfg, \"train\")\n",
    "\n",
    "test_dataloader = ClothesDataLoader(test_dataset, cfg.batch_size, num_workers=cfg.workers)\n",
    "train_dataloader = ClothesDataLoader(train_dataset, batch_size=cfg.batch_size, num_workers=cfg.workers)"
   ]
  },
  {
   "cell_type": "code",
   "execution_count": 10,
   "id": "bcf70ea2cc1084f2",
   "metadata": {
    "ExecuteTime": {
     "end_time": "2024-01-27T14:46:12.981010Z",
     "start_time": "2024-01-27T14:46:12.645257Z"
    },
    "collapsed": false,
    "jupyter": {
     "outputs_hidden": false
    }
   },
   "outputs": [
    {
     "name": "stderr",
     "output_type": "stream",
     "text": [
      "/Users/acabanas/miniconda3/envs/clothes-extractor/lib/python3.11/site-packages/torchvision/transforms/functional.py:1603: UserWarning: The default value of the antialias parameter of all the resizing transforms (Resize(), RandomResizedCrop(), etc.) will change from None to True in v0.17, in order to be consistent across the PIL and Tensor backends. To suppress this warning, directly pass antialias=True (recommended, future default), antialias=None (current default, which means False for Tensors and True for PIL), or antialias=False (only works on Tensors - PIL will still use antialiasing). This also applies if you are using the inference transforms from the models weights: update the call to weights.transforms(antialias=True).\n",
      "  warnings.warn(\n",
      "Clipping input data to the valid range for imshow with RGB data ([0..1] for floats or [0..255] for integers).\n",
      "Clipping input data to the valid range for imshow with RGB data ([0..1] for floats or [0..255] for integers).\n"
     ]
    },
    {
     "data": {
      "image/png": "[encoded data removed]",
      "text/plain": [
       "<Figure size 2000x2000 with 2 Axes>"
      ]
     },
     "metadata": {},
     "output_type": "display_data"
    }
   ],
   "source": [
    "image = train_dataset[2]\n",
    "\n",
    "# image_keys = [\"img\", \"cloth\", \"cloth_mask\", \"predict\", \"agnostic_mask\", \"mask_body_parts\", \"mask_body\", \"centered_mask_body\", \"img_masked\"]\n",
    "image_keys = [\"predict\", \"img_masked\"]\n",
    "fig, axes = plt.subplots(1, len(image_keys), figsize=(20, 20))\n",
    "\n",
    "for ax, key in zip(axes, image_keys):\n",
    "    ax.imshow(image[key].permute(1, 2, 0))\n",
    "    ax.axis('off')\n",
    "    ax.set_title(key, rotation=90, fontsize=10)"
   ]
  },
  {
   "cell_type": "markdown",
   "id": "69c8073c937f8b12",
   "metadata": {
    "collapsed": false,
    "jupyter": {
     "outputs_hidden": false
    }
   },
   "source": [
    "# Defining the UNET\n",
    "![img](https://lmb.informatik.uni-freiburg.de/people/ronneber/u-net/u-net-architecture.png)"
   ]
  },
  {
   "cell_type": "markdown",
   "id": "533eead112462b0b",
   "metadata": {
    "collapsed": false,
    "jupyter": {
     "outputs_hidden": false
    }
   },
   "source": [
    "We are using the Unet defined in the [Model module from the repository](https://github.com/aidl-upc-2024-clothes-extractor/clothes-extractor/blob/main/src/model.py)"
   ]
  },
  {
   "cell_type": "code",
   "execution_count": 11,
   "id": "d848fffc7a31f65f",
   "metadata": {
    "ExecuteTime": {
     "start_time": "2024-01-27T14:46:13.123758Z"
    },
    "collapsed": false,
    "jupyter": {
     "outputs_hidden": false
    }
   },
   "outputs": [],
   "source": [
    "\n",
    "def visualize_nn_output(output, image_index=0):\n",
    "    output = output[image_index].squeeze().detach().cpu().numpy()\n",
    "\n",
    "    if output.shape[0] in [3, 4]:  # RGB or RGBA\n",
    "        output = np.transpose(output, (1, 2, 0))\n",
    "\n",
    "    plt.imshow(output)\n",
    "    plt.show()"
   ]
  },
  {
   "cell_type": "code",
   "execution_count": 12,
   "id": "74753775b469a835",
   "metadata": {
    "ExecuteTime": {
     "end_time": "2024-01-27T14:46:13.294102Z",
     "start_time": "2024-01-27T14:46:13.126992Z"
    },
    "collapsed": false,
    "jupyter": {
     "outputs_hidden": false
    }
   },
   "outputs": [
    {
     "name": "stderr",
     "output_type": "stream",
     "text": [
      "Clipping input data to the valid range for imshow with RGB data ([0..1] for floats or [0..255] for integers).\n"
     ]
    },
    {
     "data": {
      "image/png": "[encoded data removed]",
      "text/plain": [
       "<Figure size 640x480 with 1 Axes>"
      ]
     },
     "metadata": {},
     "output_type": "display_data"
    }
   ],
   "source": [
    "model = Unet(in_channels=3, n_feat=32)\n",
    "inp = torch.randn(2,3,28,28) #As a sanity check, we define a random tensor with the same shape as an input image, to make sure that we can forward it to our network\n",
    "out = model(inp)\n",
    "\n",
    "visualize_nn_output(out)"
   ]
  },
  {
   "cell_type": "markdown",
   "id": "cdbb121f9e1f137f",
   "metadata": {
    "collapsed": false,
    "jupyter": {
     "outputs_hidden": false
    }
   },
   "source": [
    "The Train model function is the defined in the [train module from the project](https://github.com/aidl-upc-2024-clothes-extractor/clothes-extractor/blob/main/src/train.py)\n"
   ]
  },
  {
   "cell_type": "code",
   "execution_count": 13,
   "id": "bd8151e6d729b16d",
   "metadata": {
    "ExecuteTime": {
     "end_time": "2024-01-27T14:46:13.306019Z",
     "start_time": "2024-01-27T14:46:13.274021Z"
    },
    "collapsed": false,
    "jupyter": {
     "outputs_hidden": false
    }
   },
   "outputs": [],
   "source": [
    "def run_model_on_image(model, dataset, image_index):\n",
    "    model.eval()\n",
    "    \n",
    "    image = dataset[image_index]\n",
    "    image = image[\"img_masked\"].unsqueeze(0)\n",
    "\n",
    "    \n",
    "    with torch.no_grad():\n",
    "        output = model(image)\n",
    "\n",
    "    return output\n"
   ]
  },
  {
   "cell_type": "code",
   "execution_count": 14,
   "id": "bdc8bfdbcc570d6c",
   "metadata": {
    "ExecuteTime": {
     "end_time": "2024-01-27T15:06:03.458501Z",
     "start_time": "2024-01-27T14:46:13.304049Z"
    },
    "collapsed": false,
    "jupyter": {
     "outputs_hidden": false
    }
   },
   "outputs": [
    {
     "name": "stdout",
     "output_type": "stream",
     "text": [
      "Start training\n"
     ]
    },
    {
     "name": "stderr",
     "output_type": "stream",
     "text": [
      "/Users/acabanas/miniconda3/envs/clothes-extractor/lib/python3.11/site-packages/torchvision/transforms/functional.py:1603: UserWarning: The default value of the antialias parameter of all the resizing transforms (Resize(), RandomResizedCrop(), etc.) will change from None to True in v0.17, in order to be consistent across the PIL and Tensor backends. To suppress this warning, directly pass antialias=True (recommended, future default), antialias=None (current default, which means False for Tensors and True for PIL), or antialias=False (only works on Tensors - PIL will still use antialiasing). This also applies if you are using the inference transforms from the models weights: update the call to weights.transforms(antialias=True).\n",
      "  warnings.warn(\n",
      "/Users/acabanas/miniconda3/envs/clothes-extractor/lib/python3.11/site-packages/torchvision/transforms/functional.py:1603: UserWarning: The default value of the antialias parameter of all the resizing transforms (Resize(), RandomResizedCrop(), etc.) will change from None to True in v0.17, in order to be consistent across the PIL and Tensor backends. To suppress this warning, directly pass antialias=True (recommended, future default), antialias=None (current default, which means False for Tensors and True for PIL), or antialias=False (only works on Tensors - PIL will still use antialiasing). This also applies if you are using the inference transforms from the models weights: update the call to weights.transforms(antialias=True).\n",
      "  warnings.warn(\n"
     ]
    },
    {
     "name": "stdout",
     "output_type": "stream",
     "text": [
      "Epoch [1/1], Train Loss: 0.0013, Validation Loss: 0.0051\n",
      "Finished Training\n"
     ]
    }
   ],
   "source": [
    "# For testing purposes (There are so many images) we can limit the number of loaded batches, 0 is no limit\n",
    "cfg.max_batches = 1\n",
    "\n",
    "trained_model = train_model(model, train_dataloader, test_dataloader, cfg.num_epochs, cfg.learning_rate, cfg.max_batches)\n"
   ]
  },
  {
   "cell_type": "code",
   "execution_count": 16,
   "id": "84d1adcb98e9e353",
   "metadata": {
    "ExecuteTime": {
     "end_time": "2024-01-27T15:06:03.462175Z",
     "start_time": "2024-01-27T15:06:03.460168Z"
    },
    "collapsed": false,
    "jupyter": {
     "outputs_hidden": false
    }
   },
   "outputs": [
    {
     "name": "stderr",
     "output_type": "stream",
     "text": [
      "Clipping input data to the valid range for imshow with RGB data ([0..1] for floats or [0..255] for integers).\n"
     ]
    },
    {
     "data": {
      "image/png": "[encoded data removed]",
      "text/plain": [
       "<Figure size 640x480 with 1 Axes>"
      ]
     },
     "metadata": {},
     "output_type": "display_data"
    }
   ],
   "source": [
    "out = run_model_on_image(model, train_dataset, 0)\n",
    "visualize_nn_output(out)"
   ]
  },
  {
   "cell_type": "code",
   "execution_count": 17,
   "id": "c2d5cf8c0c647854",
   "metadata": {
    "ExecuteTime": {
     "start_time": "2024-01-27T15:06:03.461434Z"
    },
    "collapsed": false,
    "jupyter": {
     "outputs_hidden": false
    }
   },
   "outputs": [
    {
     "data": {
      "text/plain": [
       "<module 'src.dataset' from '/Users/acabanas/dev/forks/clothes-extractor/src/dataset.py'>"
      ]
     },
     "execution_count": 17,
     "metadata": {},
     "output_type": "execute_result"
    }
   ],
   "source": [
    "import src.dataset as dataset\n",
    "import importlib\n",
    "importlib.reload(dataset)"
   ]
  },
  {
   "cell_type": "code",
   "execution_count": null,
   "id": "39922218-ea28-4060-9d96-76937bda807a",
   "metadata": {},
   "outputs": [],
   "source": []
  },
  {
   "cell_type": "code",
   "execution_count": null,
   "id": "edfc9063-586b-466d-982e-d2bea23a744c",
   "metadata": {},
   "outputs": [],
   "source": []
  },
  {
   "cell_type": "code",
   "execution_count": null,
   "id": "eebe7488-0b86-47d8-be3c-2e094533cd19",
   "metadata": {},
   "outputs": [],
   "source": []
  }
 ],
 "metadata": {
  "kernelspec": {
   "display_name": "Python 3 (ipykernel)",
   "language": "python",
   "name": "python3"
  },
  "language_info": {
   "codemirror_mode": {
    "name": "ipython",
    "version": 3
   },
   "file_extension": ".py",
   "mimetype": "text/x-python",
   "name": "python",
   "nbconvert_exporter": "python",
   "pygments_lexer": "ipython3",
   "version": "3.11.7"
  }
 },
 "nbformat": 4,
 "nbformat_minor": 5
}
