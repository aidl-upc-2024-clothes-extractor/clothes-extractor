{
 "cells": [
  {
   "cell_type": "code",
   "execution_count": 13,
   "id": "9c1b7d6bf6777baf",
   "metadata": {
    "ExecuteTime": {
     "end_time": "2024-01-27T15:13:07.524719Z",
     "start_time": "2024-01-27T15:13:07.516577Z"
    },
    "collapsed": false,
    "execution": {
     "iopub.execute_input": "2024-02-04T16:53:25.181674Z",
     "iopub.status.busy": "2024-02-04T16:53:25.181051Z",
     "iopub.status.idle": "2024-02-04T16:53:25.184955Z",
     "shell.execute_reply": "2024-02-04T16:53:25.184364Z",
     "shell.execute_reply.started": "2024-02-04T16:53:25.181648Z"
    },
    "jupyter": {
     "outputs_hidden": false
    }
   },
   "outputs": [],
   "source": [
    "# Check if running in colab\n",
    "try:\n",
    "  import google.colab\n",
    "  IN_COLAB = True\n",
    "except:\n",
    "  IN_COLAB = False\n",
    "  "
   ]
  },
  {
   "cell_type": "code",
   "execution_count": 14,
   "id": "78d0af22769158d4",
   "metadata": {
    "ExecuteTime": {
     "end_time": "2024-01-27T15:18:08.305644Z",
     "start_time": "2024-01-27T15:18:08.299904Z"
    },
    "collapsed": false,
    "execution": {
     "iopub.execute_input": "2024-02-04T16:53:27.175700Z",
     "iopub.status.busy": "2024-02-04T16:53:27.175367Z",
     "iopub.status.idle": "2024-02-04T16:53:27.180647Z",
     "shell.execute_reply": "2024-02-04T16:53:27.180058Z",
     "shell.execute_reply.started": "2024-02-04T16:53:27.175686Z"
    },
    "jupyter": {
     "outputs_hidden": false
    }
   },
   "outputs": [],
   "source": [
    "if IN_COLAB :\n",
    "    # If we are in colab we don't have access to our custom modules so we clone the repository\n",
    "    !git clone https://github.com/aidl-upc-2024-clothes-extractor/clothes-extractor.git\n",
    "    # Pull last data from git\n",
    "    !cd clothes-extractor && git pull && cd ..\n"
   ]
  },
  {
   "cell_type": "code",
   "execution_count": 15,
   "id": "e4fae2ef368fcce7",
   "metadata": {
    "collapsed": false,
    "execution": {
     "iopub.execute_input": "2024-02-04T16:53:29.071529Z",
     "iopub.status.busy": "2024-02-04T16:53:29.071278Z",
     "iopub.status.idle": "2024-02-04T16:53:29.075093Z",
     "shell.execute_reply": "2024-02-04T16:53:29.074558Z",
     "shell.execute_reply.started": "2024-02-04T16:53:29.071511Z"
    },
    "jupyter": {
     "outputs_hidden": false
    }
   },
   "outputs": [],
   "source": [
    "import numpy as np\n",
    "import torch\n",
    "from torch.utils.data import DataLoader\n",
    "import matplotlib.pyplot as plt\n",
    "import os"
   ]
  },
  {
   "cell_type": "code",
   "execution_count": 16,
   "id": "1560d122312ffd91",
   "metadata": {
    "ExecuteTime": {
     "start_time": "2024-01-27T15:06:28.104619Z"
    },
    "execution": {
     "iopub.execute_input": "2024-02-04T16:53:32.144408Z",
     "iopub.status.busy": "2024-02-04T16:53:32.143626Z",
     "iopub.status.idle": "2024-02-04T16:53:32.149422Z",
     "shell.execute_reply": "2024-02-04T16:53:32.148589Z",
     "shell.execute_reply.started": "2024-02-04T16:53:32.144378Z"
    }
   },
   "outputs": [
    {
     "name": "stdout",
     "output_type": "stream",
     "text": [
      "/notebooks/clothes-extractor\n"
     ]
    }
   ],
   "source": [
    "if '_dh' in dict(globals()):\n",
    "  # Import code form our github\n",
    "  from pathlib import Path\n",
    "\n",
    "  current_folder = globals()['_dh'][0]\n",
    "  parent = Path(current_folder).parent\n",
    "  os.chdir(str(parent))\n",
    "  print(os.getcwd())\n",
    "\n",
    "  \n",
    "# Project imports\n",
    "from src.dataset import ClothesDataLoader, ClothesDataset\n",
    "from src.config import Config\n",
    "from src.model import Unet\n",
    "from src.train import train_model"
   ]
  },
  {
   "cell_type": "code",
   "execution_count": 17,
   "id": "a3c7d0ec93a4abe0",
   "metadata": {
    "ExecuteTime": {
     "end_time": "2024-01-27T14:46:12.470350Z",
     "start_time": "2024-01-27T14:46:12.466781Z"
    },
    "collapsed": false,
    "execution": {
     "iopub.execute_input": "2024-02-04T16:53:34.543294Z",
     "iopub.status.busy": "2024-02-04T16:53:34.542207Z",
     "iopub.status.idle": "2024-02-04T16:53:34.548190Z",
     "shell.execute_reply": "2024-02-04T16:53:34.547499Z",
     "shell.execute_reply.started": "2024-02-04T16:53:34.543273Z"
    },
    "jupyter": {
     "outputs_hidden": false
    }
   },
   "outputs": [],
   "source": [
    "seed = 22\n",
    "torch.manual_seed(seed)\n",
    "torch.torch.cuda.manual_seed_all(seed)\n",
    "# torch.mps.manual_seed(seed)\n",
    "\n",
    "torch.backends.cudnn.deterministic = True\n",
    "torch.backends.cudnn.benchmark = False\n",
    "np.random.seed(seed)"
   ]
  },
  {
   "cell_type": "code",
   "execution_count": 6,
   "id": "48d60585-d60e-4c8f-8805-d3044ace4a5e",
   "metadata": {
    "execution": {
     "iopub.execute_input": "2024-02-04T16:52:28.520248Z",
     "iopub.status.busy": "2024-02-04T16:52:28.520090Z",
     "iopub.status.idle": "2024-02-04T16:52:28.522661Z",
     "shell.execute_reply": "2024-02-04T16:52:28.522181Z",
     "shell.execute_reply.started": "2024-02-04T16:52:28.520233Z"
    }
   },
   "outputs": [],
   "source": [
    "# import torch.multiprocessing as mp\n",
    "\n",
    "# mp.set_start_method('spawn')\n"
   ]
  },
  {
   "cell_type": "code",
   "execution_count": 18,
   "id": "59b74cf8ab26460d",
   "metadata": {
    "ExecuteTime": {
     "end_time": "2024-01-27T14:46:12.488555Z",
     "start_time": "2024-01-27T14:46:12.486199Z"
    },
    "collapsed": false,
    "execution": {
     "iopub.execute_input": "2024-02-04T16:53:37.797911Z",
     "iopub.status.busy": "2024-02-04T16:53:37.797383Z",
     "iopub.status.idle": "2024-02-04T16:53:37.801949Z",
     "shell.execute_reply": "2024-02-04T16:53:37.801357Z",
     "shell.execute_reply.started": "2024-02-04T16:53:37.797888Z"
    },
    "jupyter": {
     "outputs_hidden": false
    }
   },
   "outputs": [
    {
     "name": "stdout",
     "output_type": "stream",
     "text": [
      "cuda\n"
     ]
    }
   ],
   "source": [
    "device = torch.device(\"cuda\" if torch.cuda.is_available() else \"cpu\")\n",
    "if torch.backends.mps.is_available() and torch.backends.mps.is_built() and torch.device != \"cuda\":\n",
    "  device = torch.device(\"mps\")\n",
    "print(device)"
   ]
  },
  {
   "cell_type": "code",
   "execution_count": 20,
   "id": "3ab671852634b590",
   "metadata": {
    "ExecuteTime": {
     "end_time": "2024-01-27T14:46:12.634027Z",
     "start_time": "2024-01-27T14:46:12.492220Z"
    },
    "collapsed": false,
    "execution": {
     "iopub.execute_input": "2024-02-04T16:54:09.628197Z",
     "iopub.status.busy": "2024-02-04T16:54:09.627243Z",
     "iopub.status.idle": "2024-02-04T16:55:36.653214Z",
     "shell.execute_reply": "2024-02-04T16:55:36.652549Z",
     "shell.execute_reply.started": "2024-02-04T16:54:09.628152Z"
    },
    "jupyter": {
     "outputs_hidden": false
    }
   },
   "outputs": [
    {
     "name": "stdout",
     "output_type": "stream",
     "text": [
      "/notebooks/clothes-extractor\n",
      "Dowloading dataset\n",
      "--2024-02-04 16:54:10--  https://www.dropbox.com/s/10bfat0kg4si1bu/zalando-hd-resized.zip\n",
      "Resolving www.dropbox.com (www.dropbox.com)... 162.125.4.18, 2620:100:6019:18::a27d:412\n",
      "Connecting to www.dropbox.com (www.dropbox.com)|162.125.4.18|:443... connected.\n",
      "HTTP request sent, awaiting response... 302 Found\n",
      "Location: /s/raw/10bfat0kg4si1bu/zalando-hd-resized.zip [following]\n",
      "--2024-02-04 16:54:10--  https://www.dropbox.com/s/raw/10bfat0kg4si1bu/zalando-hd-resized.zip\n",
      "Reusing existing connection to www.dropbox.com:443.\n",
      "HTTP request sent, awaiting response... 302 Found\n",
      "Location: https://uccdccb5127ef124abdc7366dab0.dl.dropboxusercontent.com/cd/0/inline/CMp3xSN-pHXbHi4KmWICIk7ImCtWmzf6BlXJJdQ05CQ0BOo7Ix3rCz1Wht6XZYyZq6dcKzkx77HIu25CTQeLLUncIjUBSPWBRLxr8eswMbVxxnVTiiRFHyxl9rhDLiVgVC6LCchjS8txogLLjMA7FPht/file# [following]\n",
      "--2024-02-04 16:54:11--  https://uccdccb5127ef124abdc7366dab0.dl.dropboxusercontent.com/cd/0/inline/CMp3xSN-pHXbHi4KmWICIk7ImCtWmzf6BlXJJdQ05CQ0BOo7Ix3rCz1Wht6XZYyZq6dcKzkx77HIu25CTQeLLUncIjUBSPWBRLxr8eswMbVxxnVTiiRFHyxl9rhDLiVgVC6LCchjS8txogLLjMA7FPht/file\n",
      "Resolving uccdccb5127ef124abdc7366dab0.dl.dropboxusercontent.com (uccdccb5127ef124abdc7366dab0.dl.dropboxusercontent.com)... 162.125.4.15, 2620:100:6019:15::a27d:40f\n",
      "Connecting to uccdccb5127ef124abdc7366dab0.dl.dropboxusercontent.com (uccdccb5127ef124abdc7366dab0.dl.dropboxusercontent.com)|162.125.4.15|:443... connected.\n",
      "HTTP request sent, awaiting response... 302 Found\n",
      "Location: /cd/0/inline2/CMpfnHbHz9wxWIfRarnfansvLmonAdnryxZuNwR6RQLn9byPu1XVdRYxniOaTtmgoB7VXkh4cildZj2wYrk7gQWlBZ1AJvCniz32Q2N-p856xLS8MhpWaUCMyq-gZUGAvNNqL4WRNezE8ZLiRgW87VRObYkQJLyCh2PLgV7en-KGbSGm-dc0lLCwzsWg-ULcpXthJemKmzHaLv6KJjwPQLqX3qmfN0U75kMugzsB03XolU9DPdE8Eet2bramLFX_bqSCnpuxdduI2ZlFATNDhVgHotI4GhzdwRxUXfFlyPEHsXhAe3obQkhuj2j7iI7ev2Rp7kKHGND9NN-19eW6rc4z0JU-92AyGnCG85DxbJb1h8E9FbGu2uZTV091bP3OyPw/file [following]\n",
      "--2024-02-04 16:54:11--  https://uccdccb5127ef124abdc7366dab0.dl.dropboxusercontent.com/cd/0/inline2/CMpfnHbHz9wxWIfRarnfansvLmonAdnryxZuNwR6RQLn9byPu1XVdRYxniOaTtmgoB7VXkh4cildZj2wYrk7gQWlBZ1AJvCniz32Q2N-p856xLS8MhpWaUCMyq-gZUGAvNNqL4WRNezE8ZLiRgW87VRObYkQJLyCh2PLgV7en-KGbSGm-dc0lLCwzsWg-ULcpXthJemKmzHaLv6KJjwPQLqX3qmfN0U75kMugzsB03XolU9DPdE8Eet2bramLFX_bqSCnpuxdduI2ZlFATNDhVgHotI4GhzdwRxUXfFlyPEHsXhAe3obQkhuj2j7iI7ev2Rp7kKHGND9NN-19eW6rc4z0JU-92AyGnCG85DxbJb1h8E9FbGu2uZTV091bP3OyPw/file\n",
      "Reusing existing connection to uccdccb5127ef124abdc7366dab0.dl.dropboxusercontent.com:443.\n",
      "HTTP request sent, awaiting response... 200 OK\n",
      "Length: 4763561780 (4.4G) [application/zip]\n",
      "Saving to: ‘zalando-hd-resized.zip.1’\n",
      "\n",
      "zalando-hd-resized. 100%[===================>]   4.44G  46.6MB/s    in 82s     \n",
      "\n",
      "2024-02-04 16:55:34 (55.2 MB/s) - ‘zalando-hd-resized.zip.1’ saved [4763561780/4763561780]\n",
      "\n",
      "Extracting the dataset. Please wait....\n",
      "  End-of-central-directory signature not found.  Either this file is not\n",
      "  a zipfile, or it constitutes one disk of a multi-part archive.  In the\n",
      "  latter case the central directory and zipfile comment will be found on\n",
      "  the last disk(s) of this archive.\n",
      "unzip:  cannot find zipfile directory in one of zalando-hd-resized.zip or\n",
      "        zalando-hd-resized.zip.zip, and cannot find zalando-hd-resized.zip.ZIP, period.\n",
      "Done\n"
     ]
    }
   ],
   "source": [
    "# Type here the path for the data set\n",
    "dataset_path = os.path.join(\"datasets\", \"zalando-hd-resized\")\n",
    "!pwd\n",
    "\n",
    "# Dowload the dataset only if it does not exist\n",
    "if (os.path.exists(dataset_path)):\n",
    "  print(\"Dataset already downloaded\")\n",
    "else:\n",
    "  print(\"Dowloading dataset\")\n",
    "  os.makedirs(dataset_path, exist_ok=True)\n",
    "  path_components = dataset_path.split(os.path.sep)\n",
    "  new_path = os.path.sep.join(path_components[:-1])\n",
    "  with open(\"path_check.tmp\", 'w') as file:\n",
    "    file.write(new_path)\n",
    "  !wget https://www.dropbox.com/s/10bfat0kg4si1bu/zalando-hd-resized.zip\n",
    "  !echo \"Extracting the dataset. Please wait....\"\n",
    "  !unzip zalando-hd-resized.zip -d `cat path_check.tmp` > /dev/null\n",
    "  !rm path_check.tmp\n",
    "  !rm zalando-hd-resized.zip\n",
    "  print(\"Done\")"
   ]
  },
  {
   "cell_type": "code",
   "execution_count": 21,
   "id": "28b8343d9ef226e7",
   "metadata": {
    "ExecuteTime": {
     "end_time": "2024-01-27T14:46:12.638640Z",
     "start_time": "2024-01-27T14:46:12.634345Z"
    },
    "collapsed": false,
    "execution": {
     "iopub.execute_input": "2024-02-04T17:24:17.670112Z",
     "iopub.status.busy": "2024-02-04T17:24:17.669473Z",
     "iopub.status.idle": "2024-02-04T17:24:17.673999Z",
     "shell.execute_reply": "2024-02-04T17:24:17.673473Z",
     "shell.execute_reply.started": "2024-02-04T17:24:17.670084Z"
    },
    "jupyter": {
     "outputs_hidden": false
    }
   },
   "outputs": [],
   "source": [
    "cfg = Config()\n",
    "cfg.batch_size = 32\n",
    "cfg.dataset_dir = dataset_path\n",
    "cfg.load_height = 28\n",
    "cfg.load_width = 28\n",
    "cfg.learning_rate = 0.0001\n",
    "cfg.num_epochs = 1\n",
    "cfg.num_val_samples = 10\n",
    "cfg.num_input_channels = 1\n",
    "cfg.num_classes = 10\n",
    "cfg.workers = 0\n",
    "cfg.max_batches = 1000\n",
    "cfg.angle_prob = 0"
   ]
  },
  {
   "cell_type": "code",
   "execution_count": 22,
   "id": "a120d52189f939bd",
   "metadata": {
    "ExecuteTime": {
     "end_time": "2024-01-27T14:46:12.643145Z",
     "start_time": "2024-01-27T14:46:12.636317Z"
    },
    "collapsed": false,
    "execution": {
     "iopub.execute_input": "2024-02-04T17:24:25.429939Z",
     "iopub.status.busy": "2024-02-04T17:24:25.429360Z",
     "iopub.status.idle": "2024-02-04T17:24:25.444722Z",
     "shell.execute_reply": "2024-02-04T17:24:25.444145Z",
     "shell.execute_reply.started": "2024-02-04T17:24:25.429915Z"
    },
    "jupyter": {
     "outputs_hidden": false
    }
   },
   "outputs": [],
   "source": [
    "\n",
    "test_dataset = ClothesDataset(cfg, \"test\", device=device)\n",
    "train_dataset = ClothesDataset(cfg, \"train\", device=device)\n",
    "\n",
    "test_dataloader = ClothesDataLoader(test_dataset, cfg.batch_size, num_workers=cfg.workers)\n",
    "train_dataloader = ClothesDataLoader(train_dataset, batch_size=cfg.batch_size, num_workers=cfg.workers)"
   ]
  },
  {
   "cell_type": "code",
   "execution_count": 23,
   "id": "bcf70ea2cc1084f2",
   "metadata": {
    "ExecuteTime": {
     "end_time": "2024-01-27T14:46:12.981010Z",
     "start_time": "2024-01-27T14:46:12.645257Z"
    },
    "collapsed": false,
    "execution": {
     "iopub.execute_input": "2024-02-04T17:24:26.646407Z",
     "iopub.status.busy": "2024-02-04T17:24:26.645826Z",
     "iopub.status.idle": "2024-02-04T17:24:28.370005Z",
     "shell.execute_reply": "2024-02-04T17:24:28.369273Z",
     "shell.execute_reply.started": "2024-02-04T17:24:26.646385Z"
    },
    "jupyter": {
     "outputs_hidden": false
    }
   },
   "outputs": [
    {
     "name": "stderr",
     "output_type": "stream",
     "text": [
      "Clipping input data to the valid range for imshow with RGB data ([0..1] for floats or [0..255] for integers).\n",
      "Clipping input data to the valid range for imshow with RGB data ([0..1] for floats or [0..255] for integers).\n"
     ]
    },
    {
     "data": {
      "image/png": "[encoded data removed]",
      "text/plain": [
       "<Figure size 2000x2000 with 2 Axes>"
      ]
     },
     "metadata": {},
     "output_type": "display_data"
    }
   ],
   "source": [
    "image = train_dataset[13]\n",
    "\n",
    "# image_keys = [\"img\", \"cloth\", \"cloth_mask\", \"predict\", \"agnostic_mask\", \"mask_body_parts\", \"mask_body\", \"centered_mask_body\", \"img_masked\"]\n",
    "image_keys = [\"target\", \"centered_mask_body\"]\n",
    "fig, axes = plt.subplots(1, len(image_keys), figsize=(20, 20))\n",
    "\n",
    "for ax, key in zip(axes, image_keys):\n",
    "    ax.imshow(image[key].cpu().permute(1, 2, 0))\n",
    "    ax.axis('off')\n",
    "    ax.set_title(key, rotation=90, fontsize=10)"
   ]
  },
  {
   "cell_type": "markdown",
   "id": "69c8073c937f8b12",
   "metadata": {},
   "source": [
    "# Defining the UNET\n",
    "![img](https://lmb.informatik.uni-freiburg.de/people/ronneber/u-net/u-net-architecture.png)"
   ]
  },
  {
   "cell_type": "markdown",
   "id": "533eead112462b0b",
   "metadata": {},
   "source": [
    "We are using the Unet defined in the [Model module from the repository](https://github.com/aidl-upc-2024-clothes-extractor/clothes-extractor/blob/main/src/model.py)"
   ]
  },
  {
   "cell_type": "code",
   "execution_count": 25,
   "id": "d848fffc7a31f65f",
   "metadata": {
    "ExecuteTime": {
     "start_time": "2024-01-27T14:46:13.123758Z"
    },
    "collapsed": false,
    "execution": {
     "iopub.execute_input": "2024-02-04T17:24:47.212405Z",
     "iopub.status.busy": "2024-02-04T17:24:47.211859Z",
     "iopub.status.idle": "2024-02-04T17:24:47.216664Z",
     "shell.execute_reply": "2024-02-04T17:24:47.215451Z",
     "shell.execute_reply.started": "2024-02-04T17:24:47.212382Z"
    },
    "jupyter": {
     "outputs_hidden": false
    }
   },
   "outputs": [],
   "source": [
    "\n",
    "def visualize_nn_output(output, device, image_index=0):\n",
    "    output = output[image_index].squeeze().detach().cpu().numpy()\n",
    "\n",
    "    if output.shape[0] in [3, 4]:  # RGB or RGBA\n",
    "        output = np.transpose(output, (1, 2, 0))\n",
    "\n",
    "    plt.imshow(output)\n",
    "    plt.show()"
   ]
  },
  {
   "cell_type": "code",
   "execution_count": 26,
   "id": "74753775b469a835",
   "metadata": {
    "ExecuteTime": {
     "end_time": "2024-01-27T14:46:13.294102Z",
     "start_time": "2024-01-27T14:46:13.126992Z"
    },
    "collapsed": false,
    "execution": {
     "iopub.execute_input": "2024-02-04T17:24:48.962385Z",
     "iopub.status.busy": "2024-02-04T17:24:48.961767Z",
     "iopub.status.idle": "2024-02-04T17:24:48.986401Z",
     "shell.execute_reply": "2024-02-04T17:24:48.985885Z",
     "shell.execute_reply.started": "2024-02-04T17:24:48.962361Z"
    },
    "jupyter": {
     "outputs_hidden": false
    }
   },
   "outputs": [],
   "source": [
    "model = Unet(in_channels=3, n_feat=32).to(device)\n",
    "# model = torch.load('best2.pth')"
   ]
  },
  {
   "cell_type": "code",
   "execution_count": 27,
   "id": "49971562-3059-4b11-85e6-d4caeefeb5be",
   "metadata": {
    "execution": {
     "iopub.execute_input": "2024-02-04T17:24:53.729008Z",
     "iopub.status.busy": "2024-02-04T17:24:53.728421Z",
     "iopub.status.idle": "2024-02-04T17:24:56.364094Z",
     "shell.execute_reply": "2024-02-04T17:24:56.363505Z",
     "shell.execute_reply.started": "2024-02-04T17:24:53.728986Z"
    }
   },
   "outputs": [
    {
     "name": "stderr",
     "output_type": "stream",
     "text": [
      "Clipping input data to the valid range for imshow with RGB data ([0..1] for floats or [0..255] for integers).\n"
     ]
    },
    {
     "data": {
      "image/png": "[encoded data removed]",
      "text/plain": [
       "<Figure size 640x480 with 1 Axes>"
      ]
     },
     "metadata": {},
     "output_type": "display_data"
    }
   ],
   "source": [
    "inp = torch.randn(2,3,cfg.load_height,cfg.load_width).to(device) #As a sanity check, we define a random tensor with the same shape as an input image, to make sure that we can forward it to our network\n",
    "out = model(inp)\n",
    "\n",
    "visualize_nn_output(out, device)"
   ]
  },
  {
   "cell_type": "code",
   "execution_count": 28,
   "id": "97b6571b-6bde-4f91-afae-b889d280e013",
   "metadata": {
    "execution": {
     "iopub.execute_input": "2024-02-04T17:31:11.407803Z",
     "iopub.status.busy": "2024-02-04T17:31:11.407196Z",
     "iopub.status.idle": "2024-02-04T17:31:11.419251Z",
     "shell.execute_reply": "2024-02-04T17:31:11.418699Z",
     "shell.execute_reply.started": "2024-02-04T17:31:11.407788Z"
    }
   },
   "outputs": [
    {
     "name": "stdout",
     "output_type": "stream",
     "text": [
      "torch.Size([2, 64, 4, 4])\n",
      "torch.Size([2, 64, 28, 28])\n"
     ]
    }
   ],
   "source": [
    "inp = torch.randn(2,64,28,28).to(device)\n",
    "out = model.to_vec(inp)\n",
    "print(out.shape)\n",
    "out = model.up0(out)\n",
    "print(out.shape)"
   ]
  },
  {
   "cell_type": "markdown",
   "id": "cdbb121f9e1f137f",
   "metadata": {},
   "source": [
    "The Train model function is the defined in the [train module from the project](https://github.com/aidl-upc-2024-clothes-extractor/clothes-extractor/blob/main/src/train.py)\n"
   ]
  },
  {
   "cell_type": "code",
   "execution_count": 29,
   "id": "bd8151e6d729b16d",
   "metadata": {
    "ExecuteTime": {
     "end_time": "2024-01-27T14:46:13.306019Z",
     "start_time": "2024-01-27T14:46:13.274021Z"
    },
    "collapsed": false,
    "execution": {
     "iopub.execute_input": "2024-02-04T17:31:13.573848Z",
     "iopub.status.busy": "2024-02-04T17:31:13.573263Z",
     "iopub.status.idle": "2024-02-04T17:31:13.577759Z",
     "shell.execute_reply": "2024-02-04T17:31:13.577144Z",
     "shell.execute_reply.started": "2024-02-04T17:31:13.573828Z"
    },
    "jupyter": {
     "outputs_hidden": false
    }
   },
   "outputs": [],
   "source": [
    "def run_model_on_image(model, device, dataset, image_index):\n",
    "    model.eval()\n",
    "    \n",
    "    image = dataset[image_index]\n",
    "    image = image[\"centered_mask_body\"].to(device).unsqueeze(0)\n",
    "\n",
    "    \n",
    "    with torch.no_grad():\n",
    "        output = model(image)\n",
    "\n",
    "    return output\n"
   ]
  },
  {
   "cell_type": "code",
   "execution_count": null,
   "id": "bdc8bfdbcc570d6c",
   "metadata": {
    "ExecuteTime": {
     "end_time": "2024-01-27T15:06:03.458501Z",
     "start_time": "2024-01-27T14:46:13.304049Z"
    },
    "collapsed": false,
    "execution": {
     "iopub.execute_input": "2024-02-04T17:31:17.473636Z",
     "iopub.status.busy": "2024-02-04T17:31:17.473180Z"
    },
    "jupyter": {
     "outputs_hidden": false
    }
   },
   "outputs": [
    {
     "name": "stderr",
     "output_type": "stream",
     "text": [
      "/usr/local/lib/python3.9/dist-packages/torchvision/models/_utils.py:208: UserWarning: The parameter 'pretrained' is deprecated since 0.13 and will be removed in 0.15, please use 'weights' instead.\n",
      "  warnings.warn(\n",
      "/usr/local/lib/python3.9/dist-packages/torchvision/models/_utils.py:223: UserWarning: Arguments other than a weight enum or `None` for 'weights' are deprecated since 0.13 and will be removed in 0.15. The current behavior is equivalent to passing `weights=VGG16_Weights.IMAGENET1K_V1`. You can also use `weights=VGG16_Weights.DEFAULT` to get the most up-to-date weights.\n",
      "  warnings.warn(msg)\n",
      "Downloading: \"https://download.pytorch.org/models/vgg16-397923af.pth\" to /root/.cache/torch/hub/checkpoints/vgg16-397923af.pth\n"
     ]
    },
    {
     "data": {
      "application/vnd.jupyter.widget-view+json": {
       "model_id": "e8a5416cc3854331b07f8e0b6699b30e",
       "version_major": 2,
       "version_minor": 0
      },
      "text/plain": [
       "  0%|          | 0.00/528M [00:00<?, ?B/s]"
      ]
     },
     "metadata": {},
     "output_type": "display_data"
    },
    {
     "name": "stdout",
     "output_type": "stream",
     "text": [
      "Start training\n"
     ]
    },
    {
     "name": "stderr",
     "output_type": "stream",
     "text": [
      "  0%|          | 0/1 [00:00<?, ?it/s]\n",
      "  0%|          | 0/363 [00:00<?, ?it/s]\u001b[A\n",
      "  0%|          | 1/363 [00:01<08:01,  1.33s/it]\u001b[A\n",
      "  1%|          | 2/363 [00:02<07:18,  1.21s/it]\u001b[A\n",
      "  1%|          | 3/363 [00:03<07:50,  1.31s/it]\u001b[A\n",
      "  1%|          | 4/363 [00:05<08:42,  1.45s/it]\u001b[A\n",
      "  1%|▏         | 5/363 [00:06<08:30,  1.42s/it]\u001b[A\n",
      "  2%|▏         | 6/363 [00:07<07:43,  1.30s/it]\u001b[A\n",
      "  2%|▏         | 7/363 [00:09<07:16,  1.23s/it]\u001b[A\n",
      "  2%|▏         | 8/363 [00:10<06:59,  1.18s/it]\u001b[A\n",
      "  2%|▏         | 9/363 [00:11<06:51,  1.16s/it]\u001b[A\n",
      "  3%|▎         | 10/363 [00:12<06:51,  1.17s/it]\u001b[A\n",
      "  3%|▎         | 11/363 [00:13<06:44,  1.15s/it]\u001b[A\n",
      "  3%|▎         | 12/363 [00:14<06:43,  1.15s/it]\u001b[A\n",
      "  4%|▎         | 13/363 [00:15<06:30,  1.12s/it]\u001b[A\n",
      "  4%|▍         | 14/363 [00:16<06:21,  1.09s/it]\u001b[A\n",
      "  4%|▍         | 15/363 [00:17<06:21,  1.10s/it]\u001b[A\n",
      "  4%|▍         | 16/363 [00:18<06:04,  1.05s/it]\u001b[A\n",
      "  5%|▍         | 17/363 [00:19<06:06,  1.06s/it]\u001b[A\n",
      "  5%|▍         | 18/363 [00:21<06:19,  1.10s/it]\u001b[A\n",
      "  5%|▌         | 19/363 [00:22<06:27,  1.13s/it]\u001b[A\n",
      "  6%|▌         | 20/363 [00:23<06:31,  1.14s/it]\u001b[A\n",
      "  6%|▌         | 21/363 [00:24<06:43,  1.18s/it]\u001b[A\n",
      "  6%|▌         | 22/363 [00:26<06:59,  1.23s/it]\u001b[A\n",
      "  6%|▋         | 23/363 [00:27<06:37,  1.17s/it]\u001b[A\n",
      "  7%|▋         | 24/363 [00:28<06:56,  1.23s/it]\u001b[A\n",
      "  7%|▋         | 25/363 [00:30<07:42,  1.37s/it]\u001b[A\n",
      "  7%|▋         | 26/363 [00:31<08:19,  1.48s/it]\u001b[A\n",
      "  7%|▋         | 27/363 [00:33<08:19,  1.49s/it]\u001b[A\n",
      "  8%|▊         | 28/363 [00:35<08:31,  1.53s/it]\u001b[A\n",
      "  8%|▊         | 29/363 [00:36<07:55,  1.42s/it]\u001b[A\n",
      "  8%|▊         | 30/363 [00:37<07:26,  1.34s/it]\u001b[A\n",
      "  9%|▊         | 31/363 [00:38<07:26,  1.34s/it]\u001b[A\n",
      "  9%|▉         | 32/363 [00:40<08:06,  1.47s/it]\u001b[A\n",
      "  9%|▉         | 33/363 [00:41<07:51,  1.43s/it]\u001b[A\n",
      "  9%|▉         | 34/363 [00:42<07:08,  1.30s/it]\u001b[A\n",
      " 10%|▉         | 35/363 [00:43<06:40,  1.22s/it]\u001b[A\n",
      " 10%|▉         | 36/363 [00:44<06:17,  1.15s/it]\u001b[A\n",
      " 10%|█         | 37/363 [00:46<07:10,  1.32s/it]\u001b[A\n",
      " 10%|█         | 38/363 [00:48<07:26,  1.37s/it]\u001b[A\n",
      " 11%|█         | 39/363 [00:49<06:44,  1.25s/it]\u001b[A\n",
      " 11%|█         | 40/363 [00:50<06:24,  1.19s/it]\u001b[A\n",
      " 11%|█▏        | 41/363 [00:51<06:24,  1.19s/it]\u001b[A\n",
      " 12%|█▏        | 42/363 [00:52<06:12,  1.16s/it]\u001b[A\n",
      " 12%|█▏        | 43/363 [00:53<06:06,  1.15s/it]\u001b[A\n",
      " 12%|█▏        | 44/363 [00:54<06:04,  1.14s/it]\u001b[A\n",
      " 12%|█▏        | 45/363 [00:55<05:59,  1.13s/it]\u001b[A\n",
      " 13%|█▎        | 46/363 [00:56<05:59,  1.13s/it]\u001b[A\n",
      " 13%|█▎        | 47/363 [00:58<06:15,  1.19s/it]\u001b[A\n",
      " 13%|█▎        | 48/363 [00:59<06:17,  1.20s/it]\u001b[A\n",
      " 13%|█▎        | 49/363 [01:00<06:16,  1.20s/it]\u001b[A\n",
      " 14%|█▍        | 50/363 [01:01<05:59,  1.15s/it]\u001b[A\n",
      " 14%|█▍        | 51/363 [01:02<05:52,  1.13s/it]\u001b[A\n",
      " 14%|█▍        | 52/363 [01:03<05:55,  1.14s/it]\u001b[A\n",
      " 15%|█▍        | 53/363 [01:04<05:50,  1.13s/it]\u001b[A\n",
      " 15%|█▍        | 54/363 [01:05<05:38,  1.09s/it]\u001b[A\n",
      " 15%|█▌        | 55/363 [01:07<05:34,  1.09s/it]\u001b[A\n",
      " 15%|█▌        | 56/363 [01:08<05:22,  1.05s/it]\u001b[A\n",
      " 16%|█▌        | 57/363 [01:09<06:28,  1.27s/it]\u001b[A\n",
      " 16%|█▌        | 58/363 [01:11<07:09,  1.41s/it]\u001b[A\n",
      " 16%|█▋        | 59/363 [01:12<06:32,  1.29s/it]\u001b[A\n",
      " 17%|█▋        | 60/363 [01:13<06:27,  1.28s/it]\u001b[A\n",
      " 17%|█▋        | 61/363 [01:15<06:37,  1.32s/it]\u001b[A\n",
      " 17%|█▋        | 62/363 [01:16<07:18,  1.46s/it]\u001b[A\n",
      " 17%|█▋        | 63/363 [01:18<07:27,  1.49s/it]\u001b[A\n",
      " 18%|█▊        | 64/363 [01:20<07:48,  1.57s/it]\u001b[A\n",
      " 18%|█▊        | 65/363 [01:22<08:05,  1.63s/it]\u001b[A\n",
      " 18%|█▊        | 66/363 [01:23<08:08,  1.64s/it]\u001b[A\n",
      " 18%|█▊        | 67/363 [01:25<07:33,  1.53s/it]\u001b[A\n",
      " 19%|█▊        | 68/363 [01:26<07:05,  1.44s/it]\u001b[A\n",
      " 19%|█▉        | 69/363 [01:27<07:11,  1.47s/it]\u001b[A\n",
      " 19%|█▉        | 70/363 [01:28<06:38,  1.36s/it]\u001b[A\n",
      " 20%|█▉        | 71/363 [01:30<06:20,  1.30s/it]\u001b[A\n",
      " 20%|█▉        | 72/363 [01:31<06:18,  1.30s/it]\u001b[A\n",
      " 20%|██        | 73/363 [01:32<06:37,  1.37s/it]\u001b[A\n",
      " 20%|██        | 74/363 [01:34<07:00,  1.46s/it]\u001b[A\n",
      " 21%|██        | 75/363 [01:35<06:58,  1.45s/it]\u001b[A\n",
      " 21%|██        | 76/363 [01:37<07:11,  1.50s/it]\u001b[A\n",
      " 21%|██        | 77/363 [01:39<07:35,  1.59s/it]\u001b[A\n",
      " 21%|██▏       | 78/363 [01:41<08:00,  1.68s/it]\u001b[A\n",
      " 22%|██▏       | 79/363 [01:43<07:59,  1.69s/it]\u001b[A\n",
      " 22%|██▏       | 80/363 [01:44<08:16,  1.75s/it]\u001b[A\n",
      " 22%|██▏       | 81/363 [01:47<09:12,  1.96s/it]\u001b[A\n",
      " 23%|██▎       | 82/363 [01:49<09:18,  1.99s/it]\u001b[A\n",
      " 23%|██▎       | 83/363 [01:50<08:35,  1.84s/it]\u001b[A\n",
      " 23%|██▎       | 84/363 [01:52<08:36,  1.85s/it]\u001b[A\n",
      " 23%|██▎       | 85/363 [01:54<08:37,  1.86s/it]\u001b[A\n",
      " 24%|██▎       | 86/363 [01:56<08:19,  1.80s/it]\u001b[A\n",
      " 24%|██▍       | 87/363 [01:57<07:35,  1.65s/it]\u001b[A\n",
      " 24%|██▍       | 88/363 [01:59<07:19,  1.60s/it]\u001b[A\n",
      " 25%|██▍       | 89/363 [02:00<07:29,  1.64s/it]\u001b[A\n",
      " 25%|██▍       | 90/363 [02:02<07:13,  1.59s/it]\u001b[A\n",
      " 25%|██▌       | 91/363 [02:04<07:20,  1.62s/it]\u001b[A\n",
      " 25%|██▌       | 92/363 [02:05<06:57,  1.54s/it]\u001b[A\n",
      " 26%|██▌       | 93/363 [02:06<06:20,  1.41s/it]\u001b[A\n",
      " 26%|██▌       | 94/363 [02:07<05:56,  1.33s/it]\u001b[A\n",
      " 26%|██▌       | 95/363 [02:08<05:39,  1.27s/it]\u001b[A\n",
      " 26%|██▋       | 96/363 [02:09<05:30,  1.24s/it]\u001b[A\n",
      " 27%|██▋       | 97/363 [02:11<05:29,  1.24s/it]\u001b[A\n",
      " 27%|██▋       | 98/363 [02:12<05:28,  1.24s/it]\u001b[A\n",
      " 27%|██▋       | 99/363 [02:13<05:20,  1.22s/it]\u001b[A\n",
      " 28%|██▊       | 100/363 [02:14<05:25,  1.24s/it]\u001b[A\n",
      " 28%|██▊       | 101/363 [02:16<05:35,  1.28s/it]\u001b[A\n",
      " 28%|██▊       | 102/363 [02:17<05:22,  1.23s/it]\u001b[A\n",
      " 28%|██▊       | 103/363 [02:18<05:45,  1.33s/it]\u001b[A\n",
      " 29%|██▊       | 104/363 [02:20<06:16,  1.45s/it]\u001b[A\n",
      " 29%|██▉       | 105/363 [02:22<06:34,  1.53s/it]\u001b[A\n",
      " 29%|██▉       | 106/363 [02:23<06:06,  1.42s/it]\u001b[A\n",
      " 29%|██▉       | 107/363 [02:24<05:47,  1.36s/it]\u001b[A\n",
      " 30%|██▉       | 108/363 [02:25<05:37,  1.33s/it]\u001b[A\n",
      " 30%|███       | 109/363 [02:27<06:23,  1.51s/it]\u001b[A\n",
      " 30%|███       | 110/363 [02:29<06:13,  1.48s/it]\u001b[A\n",
      " 31%|███       | 111/363 [02:30<05:49,  1.38s/it]\u001b[A\n",
      " 31%|███       | 112/363 [02:32<06:06,  1.46s/it]\u001b[A\n",
      " 31%|███       | 113/363 [02:33<06:00,  1.44s/it]\u001b[A\n",
      " 31%|███▏      | 114/363 [02:34<05:59,  1.44s/it]\u001b[A\n",
      " 32%|███▏      | 115/363 [02:36<06:11,  1.50s/it]\u001b[A\n",
      " 32%|███▏      | 116/363 [02:38<06:42,  1.63s/it]\u001b[A\n",
      " 32%|███▏      | 117/363 [02:40<07:01,  1.71s/it]\u001b[A\n",
      " 33%|███▎      | 118/363 [02:41<06:47,  1.66s/it]\u001b[A\n",
      " 33%|███▎      | 119/363 [02:43<06:22,  1.57s/it]\u001b[A\n",
      " 33%|███▎      | 120/363 [02:45<06:37,  1.63s/it]\u001b[A\n",
      " 33%|███▎      | 121/363 [02:46<06:45,  1.68s/it]\u001b[A\n",
      " 34%|███▎      | 122/363 [02:48<06:38,  1.65s/it]\u001b[A\n",
      " 34%|███▍      | 123/363 [02:50<06:39,  1.67s/it]\u001b[A\n",
      " 34%|███▍      | 124/363 [02:51<06:36,  1.66s/it]\u001b[A\n",
      " 34%|███▍      | 125/363 [02:52<06:00,  1.52s/it]\u001b[A\n",
      " 35%|███▍      | 126/363 [02:54<05:50,  1.48s/it]\u001b[A\n",
      " 35%|███▍      | 127/363 [02:55<05:34,  1.42s/it]\u001b[A\n",
      " 35%|███▌      | 128/363 [02:57<06:21,  1.62s/it]\u001b[A\n",
      " 36%|███▌      | 129/363 [02:59<06:51,  1.76s/it]\u001b[A\n",
      " 36%|███▌      | 130/363 [03:01<06:52,  1.77s/it]\u001b[A\n",
      " 36%|███▌      | 131/363 [03:03<06:55,  1.79s/it]\u001b[A\n",
      " 36%|███▋      | 132/363 [03:04<06:22,  1.65s/it]\u001b[A\n",
      " 37%|███▋      | 133/363 [03:06<06:11,  1.62s/it]\u001b[A\n",
      " 37%|███▋      | 134/363 [03:07<05:57,  1.56s/it]\u001b[A\n",
      " 37%|███▋      | 135/363 [03:09<06:01,  1.59s/it]\u001b[A\n",
      " 37%|███▋      | 136/363 [03:10<05:45,  1.52s/it]\u001b[A\n",
      " 38%|███▊      | 137/363 [03:12<05:33,  1.48s/it]\u001b[A\n",
      " 38%|███▊      | 138/363 [03:13<05:28,  1.46s/it]\u001b[A\n",
      " 38%|███▊      | 139/363 [03:14<05:18,  1.42s/it]\u001b[A\n",
      " 39%|███▊      | 140/363 [03:16<05:12,  1.40s/it]\u001b[A\n",
      " 39%|███▉      | 141/363 [03:17<05:09,  1.40s/it]\u001b[A\n",
      " 39%|███▉      | 142/363 [03:19<05:40,  1.54s/it]\u001b[A\n",
      " 39%|███▉      | 143/363 [03:21<06:09,  1.68s/it]\u001b[A\n",
      " 40%|███▉      | 144/363 [03:23<06:04,  1.66s/it]\u001b[A\n",
      " 40%|███▉      | 145/363 [03:24<06:00,  1.66s/it]\u001b[A\n",
      " 40%|████      | 146/363 [03:26<05:36,  1.55s/it]\u001b[A\n",
      " 40%|████      | 147/363 [03:27<05:39,  1.57s/it]\u001b[A\n",
      " 41%|████      | 148/363 [03:29<05:40,  1.58s/it]\u001b[A\n",
      " 41%|████      | 149/363 [03:31<05:57,  1.67s/it]\u001b[A\n",
      " 41%|████▏     | 150/363 [03:33<06:13,  1.75s/it]\u001b[A\n",
      " 42%|████▏     | 151/363 [03:35<06:39,  1.88s/it]\u001b[A\n",
      " 42%|████▏     | 152/363 [03:36<05:58,  1.70s/it]\u001b[A\n",
      " 42%|████▏     | 153/363 [03:37<05:31,  1.58s/it]\u001b[A\n",
      " 42%|████▏     | 154/363 [03:39<05:29,  1.58s/it]\u001b[A\n",
      " 43%|████▎     | 155/363 [03:40<05:09,  1.49s/it]\u001b[A\n",
      " 43%|████▎     | 156/363 [03:42<05:14,  1.52s/it]\u001b[A\n",
      " 43%|████▎     | 157/363 [03:44<05:21,  1.56s/it]\u001b[A\n",
      " 44%|████▎     | 158/363 [03:45<05:16,  1.54s/it]\u001b[A\n",
      " 44%|████▍     | 159/363 [03:46<05:02,  1.48s/it]\u001b[A\n",
      " 44%|████▍     | 160/363 [03:48<04:58,  1.47s/it]\u001b[A\n",
      " 44%|████▍     | 161/363 [03:50<05:20,  1.59s/it]\u001b[A\n",
      " 45%|████▍     | 162/363 [03:51<05:30,  1.64s/it]\u001b[A\n",
      " 45%|████▍     | 163/363 [03:53<05:08,  1.54s/it]\u001b[A\n",
      " 45%|████▌     | 164/363 [03:54<04:57,  1.50s/it]\u001b[A\n",
      " 45%|████▌     | 165/363 [03:56<05:12,  1.58s/it]\u001b[A\n",
      " 46%|████▌     | 166/363 [03:58<05:35,  1.70s/it]\u001b[A\n",
      " 46%|████▌     | 167/363 [04:00<05:51,  1.79s/it]\u001b[A\n",
      " 46%|████▋     | 168/363 [04:01<05:36,  1.73s/it]\u001b[A\n",
      " 47%|████▋     | 169/363 [04:03<05:48,  1.80s/it]\u001b[A\n",
      " 47%|████▋     | 170/363 [04:05<05:24,  1.68s/it]\u001b[A\n",
      " 47%|████▋     | 171/363 [04:06<05:04,  1.59s/it]\u001b[A\n",
      " 47%|████▋     | 172/363 [04:08<04:54,  1.54s/it]\u001b[A\n",
      " 48%|████▊     | 173/363 [04:09<05:05,  1.61s/it]\u001b[A\n",
      " 48%|████▊     | 174/363 [04:11<05:21,  1.70s/it]\u001b[A\n",
      " 48%|████▊     | 175/363 [04:14<05:46,  1.84s/it]\u001b[A\n",
      " 48%|████▊     | 176/363 [04:16<06:06,  1.96s/it]\u001b[A\n",
      " 49%|████▉     | 177/363 [04:18<06:10,  1.99s/it]\u001b[A\n",
      " 49%|████▉     | 178/363 [04:19<05:43,  1.86s/it]\u001b[A\n",
      " 49%|████▉     | 179/363 [04:21<05:15,  1.71s/it]\u001b[A\n",
      " 50%|████▉     | 180/363 [04:23<05:35,  1.83s/it]\u001b[A\n",
      " 50%|████▉     | 181/363 [04:25<05:54,  1.95s/it]\u001b[A\n",
      " 50%|█████     | 182/363 [04:27<06:02,  2.00s/it]\u001b[A\n",
      " 50%|█████     | 183/363 [04:29<05:51,  1.95s/it]\u001b[A\n",
      " 51%|█████     | 184/363 [04:30<05:16,  1.77s/it]\u001b[A\n",
      " 51%|█████     | 185/363 [04:32<05:12,  1.75s/it]\u001b[A\n",
      " 51%|█████     | 186/363 [04:34<05:38,  1.91s/it]\u001b[A\n",
      " 52%|█████▏    | 187/363 [04:36<05:12,  1.77s/it]\u001b[A\n",
      " 52%|█████▏    | 188/363 [04:37<04:46,  1.64s/it]\u001b[A\n",
      " 52%|█████▏    | 189/363 [04:38<04:24,  1.52s/it]\u001b[A\n",
      " 52%|█████▏    | 190/363 [04:40<04:13,  1.47s/it]\u001b[A\n",
      " 53%|█████▎    | 191/363 [04:41<04:16,  1.49s/it]\u001b[A\n",
      " 53%|█████▎    | 192/363 [04:43<04:08,  1.45s/it]\u001b[A\n",
      " 53%|█████▎    | 193/363 [04:44<04:26,  1.57s/it]\u001b[A\n",
      " 53%|█████▎    | 194/363 [04:46<04:46,  1.70s/it]\u001b[A\n",
      " 54%|█████▎    | 195/363 [04:48<04:57,  1.77s/it]\u001b[A\n",
      " 54%|█████▍    | 196/363 [04:50<04:37,  1.66s/it]\u001b[A\n",
      " 54%|█████▍    | 197/363 [04:51<04:16,  1.55s/it]\u001b[A\n",
      " 55%|█████▍    | 198/363 [04:52<04:04,  1.48s/it]\u001b[A\n",
      " 55%|█████▍    | 199/363 [04:54<04:00,  1.47s/it]\u001b[A\n",
      " 55%|█████▌    | 200/363 [04:55<03:51,  1.42s/it]\u001b[A\n",
      " 55%|█████▌    | 201/363 [04:57<03:48,  1.41s/it]\u001b[A\n",
      " 56%|█████▌    | 202/363 [04:59<04:13,  1.57s/it]\u001b[A\n",
      " 56%|█████▌    | 203/363 [05:01<04:33,  1.71s/it]\u001b[A\n",
      " 56%|█████▌    | 204/363 [05:02<04:25,  1.67s/it]\u001b[A\n",
      " 56%|█████▋    | 205/363 [05:03<04:09,  1.58s/it]\u001b[A\n",
      " 57%|█████▋    | 206/363 [05:05<04:00,  1.53s/it]\u001b[A\n",
      " 57%|█████▋    | 207/363 [05:06<03:55,  1.51s/it]\u001b[A\n",
      " 57%|█████▋    | 208/363 [05:08<03:52,  1.50s/it]\u001b[A\n",
      " 58%|█████▊    | 209/363 [05:09<03:52,  1.51s/it]\u001b[A\n",
      " 58%|█████▊    | 210/363 [05:11<03:59,  1.56s/it]\u001b[A\n",
      " 58%|█████▊    | 211/363 [05:12<03:47,  1.50s/it]\u001b[A\n",
      " 58%|█████▊    | 212/363 [05:14<03:44,  1.49s/it]\u001b[A\n",
      " 59%|█████▊    | 213/363 [05:15<03:36,  1.44s/it]\u001b[A\n",
      " 59%|█████▉    | 214/363 [05:17<03:33,  1.43s/it]\u001b[A\n",
      " 59%|█████▉    | 215/363 [05:19<03:53,  1.58s/it]\u001b[A\n",
      " 60%|█████▉    | 216/363 [05:20<03:56,  1.61s/it]\u001b[A\n",
      " 60%|█████▉    | 217/363 [05:21<03:40,  1.51s/it]\u001b[A\n",
      " 60%|██████    | 218/363 [05:23<03:39,  1.51s/it]\u001b[A\n",
      " 60%|██████    | 219/363 [05:25<03:41,  1.54s/it]\u001b[A\n",
      " 61%|██████    | 220/363 [05:26<03:44,  1.57s/it]\u001b[A\n",
      " 61%|██████    | 221/363 [05:28<03:40,  1.55s/it]\u001b[A\n",
      " 61%|██████    | 222/363 [05:30<03:47,  1.61s/it]\u001b[A\n",
      " 61%|██████▏   | 223/363 [05:31<04:00,  1.71s/it]\u001b[A\n",
      " 62%|██████▏   | 224/363 [05:33<03:41,  1.60s/it]\u001b[A\n",
      " 62%|██████▏   | 225/363 [05:34<03:27,  1.51s/it]\u001b[A\n",
      " 62%|██████▏   | 226/363 [05:35<03:16,  1.44s/it]\u001b[A\n",
      " 63%|██████▎   | 227/363 [05:37<03:10,  1.40s/it]\u001b[A\n",
      " 63%|██████▎   | 228/363 [05:38<03:09,  1.40s/it]\u001b[A\n",
      " 63%|██████▎   | 229/363 [05:40<03:09,  1.42s/it]\u001b[A\n",
      " 63%|██████▎   | 230/363 [05:41<03:24,  1.54s/it]\u001b[A\n",
      " 64%|██████▎   | 231/363 [05:43<03:36,  1.64s/it]\u001b[A\n",
      " 64%|██████▍   | 232/363 [05:45<03:46,  1.73s/it]\u001b[A\n",
      " 64%|██████▍   | 233/363 [05:47<03:44,  1.73s/it]\u001b[A\n",
      " 64%|██████▍   | 234/363 [05:48<03:27,  1.61s/it]\u001b[A\n",
      " 65%|██████▍   | 235/363 [05:50<03:17,  1.54s/it]\u001b[A\n",
      " 65%|██████▌   | 236/363 [05:51<03:11,  1.50s/it]\u001b[A\n",
      " 65%|██████▌   | 237/363 [05:52<03:05,  1.47s/it]\u001b[A\n",
      " 66%|██████▌   | 238/363 [05:54<03:03,  1.47s/it]\u001b[A\n",
      " 66%|██████▌   | 239/363 [05:56<03:23,  1.64s/it]\u001b[A\n",
      " 66%|██████▌   | 240/363 [05:58<03:33,  1.73s/it]\u001b[A\n",
      " 66%|██████▋   | 241/363 [06:00<03:37,  1.78s/it]\u001b[A\n",
      " 67%|██████▋   | 242/363 [06:01<03:23,  1.69s/it]\u001b[A\n",
      " 67%|██████▋   | 243/363 [06:03<03:20,  1.67s/it]\u001b[A\n",
      " 67%|██████▋   | 244/363 [06:04<03:07,  1.58s/it]\u001b[A\n",
      " 67%|██████▋   | 245/363 [06:06<02:58,  1.51s/it]\u001b[A\n",
      " 68%|██████▊   | 246/363 [06:08<03:13,  1.65s/it]\u001b[A\n",
      " 68%|██████▊   | 247/363 [06:09<03:13,  1.67s/it]\u001b[A\n",
      " 68%|██████▊   | 248/363 [06:11<02:59,  1.57s/it]\u001b[A\n",
      " 69%|██████▊   | 249/363 [06:12<02:48,  1.48s/it]\u001b[A\n",
      " 69%|██████▉   | 250/363 [06:14<02:53,  1.53s/it]\u001b[A\n",
      " 69%|██████▉   | 251/363 [06:16<03:06,  1.67s/it]\u001b[A\n",
      " 69%|██████▉   | 252/363 [06:17<03:10,  1.71s/it]\u001b[A"
     ]
    }
   ],
   "source": [
    "# For testing purposes (There are so many images) we can limit the number of loaded batches, 0 is no limit\n",
    "cfg.max_batches = 0\n",
    "\n",
    "trained_model = train_model(model, device, train_dataloader, test_dataloader, cfg.num_epochs, cfg.learning_rate, cfg.max_batches)\n"
   ]
  },
  {
   "cell_type": "code",
   "execution_count": null,
   "id": "84d1adcb98e9e353",
   "metadata": {
    "ExecuteTime": {
     "end_time": "2024-01-27T15:06:03.462175Z",
     "start_time": "2024-01-27T15:06:03.460168Z"
    },
    "collapsed": false,
    "execution": {
     "iopub.status.busy": "2024-02-04T16:52:48.842338Z",
     "iopub.status.idle": "2024-02-04T16:52:48.842496Z",
     "shell.execute_reply": "2024-02-04T16:52:48.842431Z",
     "shell.execute_reply.started": "2024-02-04T16:52:48.842425Z"
    },
    "jupyter": {
     "outputs_hidden": false
    }
   },
   "outputs": [],
   "source": [
    "out = run_model_on_image(model, device, train_dataset, 2)\n",
    "visualize_nn_output(out, device)"
   ]
  },
  {
   "cell_type": "code",
   "execution_count": null,
   "id": "d5616f40-a20f-49e8-a03c-51d6f3430494",
   "metadata": {
    "execution": {
     "iopub.status.busy": "2024-02-04T16:52:48.843106Z",
     "iopub.status.idle": "2024-02-04T16:52:48.843271Z",
     "shell.execute_reply": "2024-02-04T16:52:48.843197Z",
     "shell.execute_reply.started": "2024-02-04T16:52:48.843188Z"
    }
   },
   "outputs": [],
   "source": [
    "torch.save(model, 'best5.pth')"
   ]
  },
  {
   "cell_type": "code",
   "execution_count": null,
   "id": "c2d5cf8c0c647854",
   "metadata": {
    "ExecuteTime": {
     "start_time": "2024-01-27T15:06:03.461434Z"
    },
    "collapsed": false,
    "execution": {
     "iopub.status.busy": "2024-02-04T16:52:48.844316Z",
     "iopub.status.idle": "2024-02-04T16:52:48.844512Z",
     "shell.execute_reply": "2024-02-04T16:52:48.844415Z",
     "shell.execute_reply.started": "2024-02-04T16:52:48.844404Z"
    },
    "jupyter": {
     "outputs_hidden": false
    }
   },
   "outputs": [],
   "source": [
    "import src.dataset as dataset\n",
    "import importlib\n",
    "importlib.reload(dataset)"
   ]
  },
  {
   "cell_type": "code",
   "execution_count": null,
   "id": "39922218-ea28-4060-9d96-76937bda807a",
   "metadata": {
    "execution": {
     "iopub.status.busy": "2024-02-04T16:52:48.845899Z",
     "iopub.status.idle": "2024-02-04T16:52:48.846091Z",
     "shell.execute_reply": "2024-02-04T16:52:48.846014Z",
     "shell.execute_reply.started": "2024-02-04T16:52:48.846014Z"
    }
   },
   "outputs": [],
   "source": [
    "model"
   ]
  },
  {
   "cell_type": "code",
   "execution_count": null,
   "id": "edfc9063-586b-466d-982e-d2bea23a744c",
   "metadata": {},
   "outputs": [],
   "source": []
  },
  {
   "cell_type": "code",
   "execution_count": null,
   "id": "eebe7488-0b86-47d8-be3c-2e094533cd19",
   "metadata": {},
   "outputs": [],
   "source": []
  }
 ],
 "metadata": {
  "kernelspec": {
   "display_name": "Python 3 (ipykernel)",
   "language": "python",
   "name": "python3"
  },
  "language_info": {
   "codemirror_mode": {
    "name": "ipython",
    "version": 3
   },
   "file_extension": ".py",
   "mimetype": "text/x-python",
   "name": "python",
   "nbconvert_exporter": "python",
   "pygments_lexer": "ipython3",
   "version": "3.9.16"
  }
 },
 "nbformat": 4,
 "nbformat_minor": 5
}
