{
 "cells": [
  {
   "cell_type": "code",
   "execution_count": null,
   "metadata": {},
   "outputs": [],
   "source": [
    "import os\n",
    "try:\n",
    "    os.chdir(os.path.join(os.getcwd(), '..')) # '.' if the path is to current folder\n",
    "    print(os.getcwd())\n",
    "except:\n",
    "    pass"
   ]
  },
  {
   "cell_type": "code",
   "execution_count": null,
   "metadata": {},
   "outputs": [],
   "source": [
    "from src.dataset import ClothesDataLoader, ClothesDataset\n",
    "from dataclasses import dataclass\n",
    "import matplotlib.pyplot as plt"
   ]
  },
  {
   "cell_type": "code",
   "execution_count": null,
   "metadata": {},
   "outputs": [],
   "source": [
    "!pwd"
   ]
  },
  {
   "cell_type": "code",
   "execution_count": null,
   "metadata": {},
   "outputs": [],
   "source": [
    "@dataclass\n",
    "class OptClass:\n",
    "    dataset_dir: str = \"./datasets/zalando-hd-resized\"\n",
    "    dataset_mode: str = \"train\"\n",
    "    dataset_list: str = \"train_pairs.txt\"\n",
    "    batch_size: int = 64\n",
    "    workers: int = 1\n",
    "    load_height: int = 1024\n",
    "    load_width: int = 768\n",
    "\n",
    "opts = OptClass()\n",
    "\n",
    "clothes_dataset = ClothesDataset(opt=opts)\n",
    "clothes_loader = ClothesDataLoader(opt=opts, dataset=clothes_dataset)\n"
   ]
  },
  {
   "cell_type": "code",
   "execution_count": null,
   "metadata": {},
   "outputs": [],
   "source": [
    "result = clothes_dataset[3]\n",
    "print('Imaname: ', result[\"img_name\"])\n",
    "print('Img shape: ', result[\"img\"].shape)\n",
    "print('Cloth shape: ', result[\"cloth\"].shape)\n",
    "print('Cloth Mask: ', result[\"cloth_mask\"].shape)\n",
    "print('Agnostic Mask: ', result[\"agnostic_mask\"].shape)\n",
    "\n",
    "# Similarly, we can sample a BATCH from the dataloader by running over its iterator\n",
    "# iter_ = iter(clothes_loader)\n",
    "# bimg, blabel = next(iter_)\n",
    "# print('Batch Img shape: ', bimg.shape)\n",
    "# print('Batch Label shape: ', blabel.shape)\n",
    "# print('Batch Img shape: ', bimg.shape)\n",
    "# print('Batch Label shape: ', blabel.shape)\n",
    "# print(f'The Batched tensors return a collection of {bimg.shape[0]} grayscale images \\\n",
    "# ({bimg.shape[1]} channel, {bimg.shape[2]} height pixels, {bimg.shape[3]} width \\\n",
    "# pixels)')\n",
    "# print(f'In the case of the labels, we obtain {blabel.shape[0]} batched integers, one per image')"
   ]
  },
  {
   "cell_type": "code",
   "execution_count": null,
   "metadata": {},
   "outputs": [],
   "source": [
    "fig, (ax1, ax2, ax3, ax4) = plt.subplots(1, 4)\n",
    "ax1.imshow(result[\"img\"].permute(1,2,0))\n",
    "ax2.imshow(result[\"cloth\"].permute(1,2,0))\n",
    "ax3.imshow(result[\"cloth_mask\"].permute(1,2,0))\n",
    "ax4.imshow(result[\"agnostic_mask\"].permute(1,2,0))\n"
   ]
  }
 ],
 "metadata": {
  "kernelspec": {
   "display_name": "aidl_project",
   "language": "python",
   "name": "python3"
  },
  "language_info": {
   "codemirror_mode": {
    "name": "ipython",
    "version": 3
   },
   "file_extension": ".py",
   "mimetype": "text/x-python",
   "name": "python",
   "nbconvert_exporter": "python",
   "pygments_lexer": "ipython3",
   "version": "3.11.7"
  }
 },
 "nbformat": 4,
 "nbformat_minor": 2
}
