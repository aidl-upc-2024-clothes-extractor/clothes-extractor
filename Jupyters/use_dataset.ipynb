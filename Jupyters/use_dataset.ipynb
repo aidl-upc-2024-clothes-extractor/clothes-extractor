{
 "cells": [
  {
   "cell_type": "code",
   "execution_count": 1,
   "metadata": {
    "ExecuteTime": {
     "end_time": "2024-01-27T13:15:51.649230Z",
     "start_time": "2024-01-27T13:15:51.635701Z"
    }
   },
   "outputs": [
    {
     "name": "stdout",
     "output_type": "stream",
     "text": [
      "/Users/acabanas/dev/forks/clothes-extractor/Jupyters\n"
     ]
    }
   ],
   "source": [
    "import os\n",
    "try:\n",
    "    #os.chdir(os.path.join(os.getcwd(), '..')) # '.' if the path is to current folder\n",
    "    print(os.getcwd())\n",
    "except:\n",
    "    pass"
   ]
  },
  {
   "cell_type": "code",
   "execution_count": 2,
   "metadata": {
    "ExecuteTime": {
     "end_time": "2024-01-27T13:15:52.947270Z",
     "start_time": "2024-01-27T13:15:51.641247Z"
    }
   },
   "outputs": [],
   "source": [
    "from src.dataset import ClothesDataLoader, ClothesDataset\n",
    "import matplotlib.pyplot as plt\n",
    "from src.config import Config"
   ]
  },
  {
   "cell_type": "code",
   "execution_count": 3,
   "metadata": {
    "ExecuteTime": {
     "end_time": "2024-01-27T13:15:53.078447Z",
     "start_time": "2024-01-27T13:15:52.946488Z"
    }
   },
   "outputs": [
    {
     "name": "stdout",
     "output_type": "stream",
     "text": [
      "/Users/acabanas/dev/forks/clothes-extractor/Jupyters\r\n"
     ]
    }
   ],
   "source": [
    "!pwd"
   ]
  },
  {
   "cell_type": "code",
   "execution_count": 4,
   "metadata": {
    "ExecuteTime": {
     "end_time": "2024-01-27T13:15:53.141026Z",
     "start_time": "2024-01-27T13:15:53.079909Z"
    }
   },
   "outputs": [],
   "source": [
    "cfg = Config()\n",
    "cfg.dataset_dir = \"../datasets/zalando-hd-resized\"\n",
    "cfg.dataset_mode = \"train\"\n",
    "cfg.load_height = 1024\n",
    "cfg.load_width = 768\n",
    "\n",
    "clothes_dataset = ClothesDataset(cfg)\n",
    "clothes_loader = ClothesDataLoader(dataset=clothes_dataset, batch_size=cfg.batch_size)"
   ]
  },
  {
   "cell_type": "code",
   "execution_count": 5,
   "metadata": {
    "ExecuteTime": {
     "end_time": "2024-01-27T13:15:53.307427Z",
     "start_time": "2024-01-27T13:15:53.143876Z"
    }
   },
   "outputs": [
    {
     "name": "stdout",
     "output_type": "stream",
     "text": [
      "Loading image: 11066_00.jpg 3\n",
      "Imaname:  11066_00.jpg\n",
      "Img shape:  torch.Size([3, 768, 768])\n",
      "Cloth shape:  torch.Size([3, 768, 768])\n",
      "Cloth Mask:  torch.Size([3, 768, 768])\n",
      "Agnostic Mask:  torch.Size([3, 768, 768])\n"
     ]
    },
    {
     "name": "stderr",
     "output_type": "stream",
     "text": [
      "/Users/acabanas/miniconda3/envs/clothes-extractor/lib/python3.11/site-packages/torchvision/transforms/functional.py:1603: UserWarning: The default value of the antialias parameter of all the resizing transforms (Resize(), RandomResizedCrop(), etc.) will change from None to True in v0.17, in order to be consistent across the PIL and Tensor backends. To suppress this warning, directly pass antialias=True (recommended, future default), antialias=None (current default, which means False for Tensors and True for PIL), or antialias=False (only works on Tensors - PIL will still use antialiasing). This also applies if you are using the inference transforms from the models weights: update the call to weights.transforms(antialias=True).\n",
      "  warnings.warn(\n"
     ]
    }
   ],
   "source": [
    "result = clothes_dataset[3]\n",
    "print('Imaname: ', result[\"img_name\"])\n",
    "print('Img shape: ', result[\"img\"].shape)\n",
    "print('Cloth shape: ', result[\"cloth\"].shape)\n",
    "print('Cloth Mask: ', result[\"cloth_mask\"].shape)\n",
    "print('Agnostic Mask: ', result[\"agnostic_mask\"].shape)\n",
    "\n",
    "# Similarly, we can sample a BATCH from the dataloader by running over its iterator\n",
    "# iter_ = iter(clothes_loader)\n",
    "# bimg, blabel = next(iter_)\n",
    "# print('Batch Img shape: ', bimg.shape)\n",
    "# print('Batch Label shape: ', blabel.shape)\n",
    "# print('Batch Img shape: ', bimg.shape)\n",
    "# print('Batch Label shape: ', blabel.shape)\n",
    "# print(f'The Batched tensors return a collection of {bimg.shape[0]} grayscale images \\\n",
    "# ({bimg.shape[1]} channel, {bimg.shape[2]} height pixels, {bimg.shape[3]} width \\\n",
    "# pixels)')\n",
    "# print(f'In the case of the labels, we obtain {blabel.shape[0]} batched integers, one per image')"
   ]
  },
  {
   "cell_type": "code",
   "execution_count": 6,
   "metadata": {
    "ExecuteTime": {
     "end_time": "2024-01-27T13:15:53.824555Z",
     "start_time": "2024-01-27T13:15:53.306133Z"
    }
   },
   "outputs": [
    {
     "name": "stderr",
     "output_type": "stream",
     "text": [
      "Clipping input data to the valid range for imshow with RGB data ([0..1] for floats or [0..255] for integers).\n",
      "Clipping input data to the valid range for imshow with RGB data ([0..1] for floats or [0..255] for integers).\n",
      "Clipping input data to the valid range for imshow with RGB data ([0..1] for floats or [0..255] for integers).\n",
      "Clipping input data to the valid range for imshow with RGB data ([0..1] for floats or [0..255] for integers).\n"
     ]
    },
    {
     "data": {
      "text/plain": "<matplotlib.image.AxesImage at 0x17f56bf10>"
     },
     "execution_count": 6,
     "metadata": {},
     "output_type": "execute_result"
    },
    {
     "data": {
      "text/plain": "<Figure size 640x480 with 4 Axes>",
      "image/png": "[encoded data removed]"
     },
     "metadata": {},
     "output_type": "display_data"
    }
   ],
   "source": [
    "fig, (ax1, ax2, ax3, ax4) = plt.subplots(1, 4)\n",
    "ax1.imshow(result[\"img\"].permute(1,2,0))\n",
    "ax2.imshow(result[\"cloth\"].permute(1,2,0))\n",
    "ax3.imshow(result[\"cloth_mask\"].permute(1,2,0))\n",
    "ax4.imshow(result[\"agnostic_mask\"].permute(1,2,0))\n"
   ]
  }
 ],
 "metadata": {
  "kernelspec": {
   "display_name": "aidl_project",
   "language": "python",
   "name": "python3"
  },
  "language_info": {
   "codemirror_mode": {
    "name": "ipython",
    "version": 3
   },
   "file_extension": ".py",
   "mimetype": "text/x-python",
   "name": "python",
   "nbconvert_exporter": "python",
   "pygments_lexer": "ipython3",
   "version": "3.11.7"
  }
 },
 "nbformat": 4,
 "nbformat_minor": 2
}
