{
 "cells": [
  {
   "cell_type": "code",
   "execution_count": 1,
   "metadata": {
    "ExecuteTime": {
     "end_time": "2024-01-27T13:15:51.649230Z",
     "start_time": "2024-01-27T13:15:51.635701Z"
    }
   },
   "outputs": [
    {
     "name": "stdout",
     "output_type": "stream",
     "text": [
      "/Users/RAUL.ALARES/Documents/src/clothes-extractor\n"
     ]
    }
   ],
   "source": [
    "import os\n",
    "try:\n",
    "    os.chdir(os.path.join(os.getcwd(), '..')) # '.' if the path is to current folder\n",
    "    print(os.getcwd())\n",
    "except:\n",
    "    pass"
   ]
  },
  {
   "cell_type": "code",
   "execution_count": 2,
   "metadata": {
    "ExecuteTime": {
     "end_time": "2024-01-27T13:15:52.947270Z",
     "start_time": "2024-01-27T13:15:51.641247Z"
    }
   },
   "outputs": [],
   "source": [
    "from src.dataset import ClothesDataLoader, ClothesDataset\n",
    "import matplotlib.pyplot as plt\n",
    "from src.config import Config"
   ]
  },
  {
   "cell_type": "code",
   "execution_count": 3,
   "metadata": {
    "ExecuteTime": {
     "end_time": "2024-01-27T13:15:53.078447Z",
     "start_time": "2024-01-27T13:15:52.946488Z"
    }
   },
   "outputs": [
    {
     "name": "stdout",
     "output_type": "stream",
     "text": [
      "/Users/RAUL.ALARES/Documents/src/clothes-extractor\n"
     ]
    }
   ],
   "source": [
    "!pwd"
   ]
  },
  {
   "cell_type": "code",
   "execution_count": 4,
   "metadata": {
    "ExecuteTime": {
     "end_time": "2024-01-27T13:15:53.141026Z",
     "start_time": "2024-01-27T13:15:53.079909Z"
    }
   },
   "outputs": [],
   "source": [
    "cfg = Config()\n",
    "cfg.dataset_dir = \"./data/zalando-hd-resized\"\n",
    "#cfg.dataset_mode = \"train\"\n",
    "cfg.load_height = 1024\n",
    "cfg.load_width = 768\n",
    "\n",
    "clothes_dataset = ClothesDataset(cfg, \"train\")\n",
    "clothes_loader = ClothesDataLoader(dataset=clothes_dataset, batch_size=cfg.batch_size)"
   ]
  },
  {
   "cell_type": "code",
   "execution_count": 5,
   "metadata": {
    "ExecuteTime": {
     "end_time": "2024-01-27T13:15:53.307427Z",
     "start_time": "2024-01-27T13:15:53.143876Z"
    }
   },
   "outputs": [
    {
     "name": "stdout",
     "output_type": "stream",
     "text": [
      "Imaname:  00003_00.jpg\n",
      "mask_body_parts shape:  torch.Size([3, 1024, 768])\n",
      "centered_mask_body shape:  torch.Size([3, 1024, 768])\n",
      "reference_mask shape:  torch.Size([1024, 768])\n",
      "hide_mask shape:  torch.Size([1024, 768])\n",
      "composed_centered_mask_body shape:  torch.Size([5, 1024, 768])\n",
      "full_centered_mask_body shape:  torch.Size([1024, 768])\n"
     ]
    }
   ],
   "source": [
    "result = clothes_dataset[3]\n",
    "print('Imaname: ', result[\"img_name\"])\n",
    "print('mask_body_parts shape: ', result[\"mask_body_parts\"].shape)\n",
    "print('centered_mask_body shape: ', result[\"centered_mask_body\"].shape)\n",
    "print('reference_mask shape: ', result[\"reference_mask\"].shape)\n",
    "print('hide_mask shape: ', result[\"hide_mask\"].shape)\n",
    "print('composed_centered_mask_body shape: ', result[\"composed_centered_mask_body\"].shape)\n",
    "print('full_centered_mask_body shape: ', result[\"full_centered_mask_body\"].shape)\n",
    "\n",
    "# Similarly, we can sample a BATCH from the dataloader by running over its iterator\n",
    "# iter_ = iter(clothes_loader)\n",
    "# bimg, blabel = next(iter_)\n",
    "# print('Batch Img shape: ', bimg.shape)\n",
    "# print('Batch Label shape: ', blabel.shape)\n",
    "# print('Batch Img shape: ', bimg.shape)\n",
    "# print('Batch Label shape: ', blabel.shape)\n",
    "# print(f'The Batched tensors return a collection of {bimg.shape[0]} grayscale images \\\n",
    "# ({bimg.shape[1]} channel, {bimg.shape[2]} height pixels, {bimg.shape[3]} width \\\n",
    "# pixels)')\n",
    "# print(f'In the case of the labels, we obtain {blabel.shape[0]} batched integers, one per image')"
   ]
  },
  {
   "cell_type": "code",
   "execution_count": 6,
   "metadata": {
    "ExecuteTime": {
     "end_time": "2024-01-27T13:15:53.824555Z",
     "start_time": "2024-01-27T13:15:53.306133Z"
    }
   },
   "outputs": [
    {
     "name": "stderr",
     "output_type": "stream",
     "text": [
      "Clipping input data to the valid range for imshow with RGB data ([0..1] for floats or [0..255] for integers).\n"
     ]
    },
    {
     "data": {
      "text/plain": [
       "<matplotlib.image.AxesImage at 0x1540a9f90>"
      ]
     },
     "execution_count": 6,
     "metadata": {},
     "output_type": "execute_result"
    },
    {
     "data": {
      "image/png": "[encoded data removed]",
      "text/plain": [
       "<Figure size 640x480 with 5 Axes>"
      ]
     },
     "metadata": {},
     "output_type": "display_data"
    }
   ],
   "source": [
    "fig, (ax1, ax2, ax3, ax4, ax5) = plt.subplots(1, 5)\n",
    "ax1.imshow(result[\"mask_body_parts\"].permute(1,2,0))\n",
    "ax2.imshow(result[\"centered_mask_body\"].permute(1,2,0))\n",
    "ax3.imshow(result[\"reference_mask\"], cmap='gray')\n",
    "ax4.imshow(result[\"hide_mask\"], cmap='gray')\n",
    "ax5.imshow(result[\"full_centered_mask_body\"], cmap='gray')\n"
   ]
  }
 ],
 "metadata": {
  "kernelspec": {
   "display_name": "aidl_project",
   "language": "python",
   "name": "python3"
  },
  "language_info": {
   "codemirror_mode": {
    "name": "ipython",
    "version": 3
   },
   "file_extension": ".py",
   "mimetype": "text/x-python",
   "name": "python",
   "nbconvert_exporter": "python",
   "pygments_lexer": "ipython3",
   "version": "3.11.7"
  }
 },
 "nbformat": 4,
 "nbformat_minor": 2
}
