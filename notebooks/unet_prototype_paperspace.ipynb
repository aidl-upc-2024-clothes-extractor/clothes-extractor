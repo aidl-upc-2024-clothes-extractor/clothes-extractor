{
 "cells": [
  {
   "cell_type": "code",
   "execution_count": 1,
   "id": "9c1b7d6bf6777baf",
   "metadata": {
    "ExecuteTime": {
     "end_time": "2024-01-27T15:13:07.524719Z",
     "start_time": "2024-01-27T15:13:07.516577Z"
    },
    "collapsed": false,
    "execution": {
     "iopub.execute_input": "2024-02-04T16:53:25.181674Z",
     "iopub.status.busy": "2024-02-04T16:53:25.181051Z",
     "iopub.status.idle": "2024-02-04T16:53:25.184955Z",
     "shell.execute_reply": "2024-02-04T16:53:25.184364Z",
     "shell.execute_reply.started": "2024-02-04T16:53:25.181648Z"
    },
    "jupyter": {
     "outputs_hidden": false
    }
   },
   "outputs": [],
   "source": [
    "# Check if running in colab\n",
    "try:\n",
    "  import google.colab\n",
    "  IN_COLAB = True\n",
    "except:\n",
    "  IN_COLAB = False\n",
    "  "
   ]
  },
  {
   "cell_type": "code",
   "execution_count": 2,
   "id": "78d0af22769158d4",
   "metadata": {
    "ExecuteTime": {
     "end_time": "2024-01-27T15:18:08.305644Z",
     "start_time": "2024-01-27T15:18:08.299904Z"
    },
    "collapsed": false,
    "execution": {
     "iopub.execute_input": "2024-02-04T16:53:27.175700Z",
     "iopub.status.busy": "2024-02-04T16:53:27.175367Z",
     "iopub.status.idle": "2024-02-04T16:53:27.180647Z",
     "shell.execute_reply": "2024-02-04T16:53:27.180058Z",
     "shell.execute_reply.started": "2024-02-04T16:53:27.175686Z"
    },
    "jupyter": {
     "outputs_hidden": false
    }
   },
   "outputs": [
    {
     "name": "stderr",
     "output_type": "stream",
     "text": [
      "UsageError: Line magic function `%` not found.\n"
     ]
    }
   ],
   "source": [
    "if IN_COLAB :\n",
    "    # If we are in colab we don't have access to our custom modules so we clone the repository\n",
    "    !git clone https://github.com/aidl-upc-2024-clothes-extractor/clothes-extractor.git\n",
    "    # Pull last data from git\n",
    "    !cd clothes-extractor && git pull && cd ..\n",
    "%"
   ]
  },
  {
   "cell_type": "code",
   "execution_count": 3,
   "id": "e4fae2ef368fcce7",
   "metadata": {
    "collapsed": false,
    "execution": {
     "iopub.execute_input": "2024-02-04T16:53:29.071529Z",
     "iopub.status.busy": "2024-02-04T16:53:29.071278Z",
     "iopub.status.idle": "2024-02-04T16:53:29.075093Z",
     "shell.execute_reply": "2024-02-04T16:53:29.074558Z",
     "shell.execute_reply.started": "2024-02-04T16:53:29.071511Z"
    },
    "jupyter": {
     "outputs_hidden": false
    }
   },
   "outputs": [],
   "source": [
    "import numpy as np\n",
    "import torch\n",
    "from torch.utils.data import DataLoader\n",
    "import matplotlib.pyplot as plt\n",
    "import os"
   ]
  },
  {
   "cell_type": "code",
   "execution_count": 5,
   "id": "1560d122312ffd91",
   "metadata": {
    "ExecuteTime": {
     "start_time": "2024-01-27T15:06:28.104619Z"
    },
    "execution": {
     "iopub.execute_input": "2024-02-04T16:53:32.144408Z",
     "iopub.status.busy": "2024-02-04T16:53:32.143626Z",
     "iopub.status.idle": "2024-02-04T16:53:32.149422Z",
     "shell.execute_reply": "2024-02-04T16:53:32.148589Z",
     "shell.execute_reply.started": "2024-02-04T16:53:32.144378Z"
    }
   },
   "outputs": [
    {
     "name": "stdout",
     "output_type": "stream",
     "text": [
      "/notebooks\n",
      "/notebooks/clothes-extractor/src\n"
     ]
    }
   ],
   "source": [
    "if '_dh' in dict(globals()):\n",
    "  # Import code form our github\n",
    "  from pathlib import Path\n",
    "\n",
    "  current_folder = globals()['_dh'][0]\n",
    "  print(current_folder)\n",
    "  # parent = Path(current_folder).parent\n",
    "  # os.chdir(str(parent))\n",
    "  os.chdir(\"/notebooks/clothes-extractor\")\n",
    "  print(os.getcwd())\n",
    "\n",
    "  \n",
    "# Project imports\n",
    "from dataset import ClothesDataLoader, ClothesDataset\n",
    "from config import Config\n",
    "from models.unet import Unet\n",
    "from trainer.trainer import train_model"
   ]
  },
  {
   "cell_type": "code",
   "execution_count": null,
   "id": "a3c7d0ec93a4abe0",
   "metadata": {
    "ExecuteTime": {
     "end_time": "2024-01-27T14:46:12.470350Z",
     "start_time": "2024-01-27T14:46:12.466781Z"
    },
    "collapsed": false,
    "execution": {
     "iopub.execute_input": "2024-02-04T16:53:34.543294Z",
     "iopub.status.busy": "2024-02-04T16:53:34.542207Z",
     "iopub.status.idle": "2024-02-04T16:53:34.548190Z",
     "shell.execute_reply": "2024-02-04T16:53:34.547499Z",
     "shell.execute_reply.started": "2024-02-04T16:53:34.543273Z"
    },
    "jupyter": {
     "outputs_hidden": false
    }
   },
   "outputs": [],
   "source": [
    "seed = 22\n",
    "torch.manual_seed(seed)\n",
    "torch.torch.cuda.manual_seed_all(seed)\n",
    "# torch.mps.manual_seed(seed)\n",
    "\n",
    "torch.backends.cudnn.deterministic = True\n",
    "torch.backends.cudnn.benchmark = False\n",
    "np.random.seed(seed)"
   ]
  },
  {
   "cell_type": "code",
   "execution_count": null,
   "id": "48d60585-d60e-4c8f-8805-d3044ace4a5e",
   "metadata": {
    "execution": {
     "iopub.execute_input": "2024-02-04T16:52:28.520248Z",
     "iopub.status.busy": "2024-02-04T16:52:28.520090Z",
     "iopub.status.idle": "2024-02-04T16:52:28.522661Z",
     "shell.execute_reply": "2024-02-04T16:52:28.522181Z",
     "shell.execute_reply.started": "2024-02-04T16:52:28.520233Z"
    }
   },
   "outputs": [],
   "source": [
    "# import torch.multiprocessing as mp\n",
    "\n",
    "# mp.set_start_method('spawn')\n"
   ]
  },
  {
   "cell_type": "code",
   "execution_count": null,
   "id": "59b74cf8ab26460d",
   "metadata": {
    "ExecuteTime": {
     "end_time": "2024-01-27T14:46:12.488555Z",
     "start_time": "2024-01-27T14:46:12.486199Z"
    },
    "collapsed": false,
    "execution": {
     "iopub.execute_input": "2024-02-04T16:53:37.797911Z",
     "iopub.status.busy": "2024-02-04T16:53:37.797383Z",
     "iopub.status.idle": "2024-02-04T16:53:37.801949Z",
     "shell.execute_reply": "2024-02-04T16:53:37.801357Z",
     "shell.execute_reply.started": "2024-02-04T16:53:37.797888Z"
    },
    "jupyter": {
     "outputs_hidden": false
    }
   },
   "outputs": [
    {
     "name": "stdout",
     "output_type": "stream",
     "text": [
      "cuda\n"
     ]
    }
   ],
   "source": [
    "device = torch.device(\"cuda\" if torch.cuda.is_available() else \"cpu\")\n",
    "if torch.backends.mps.is_available() and torch.backends.mps.is_built() and torch.device != \"cuda\":\n",
    "  device = torch.device(\"mps\")\n",
    "print(device)"
   ]
  },
  {
   "cell_type": "code",
   "execution_count": null,
   "id": "3ab671852634b590",
   "metadata": {
    "ExecuteTime": {
     "end_time": "2024-01-27T14:46:12.634027Z",
     "start_time": "2024-01-27T14:46:12.492220Z"
    },
    "collapsed": false,
    "execution": {
     "iopub.execute_input": "2024-02-04T16:54:09.628197Z",
     "iopub.status.busy": "2024-02-04T16:54:09.627243Z",
     "iopub.status.idle": "2024-02-04T16:55:36.653214Z",
     "shell.execute_reply": "2024-02-04T16:55:36.652549Z",
     "shell.execute_reply.started": "2024-02-04T16:54:09.628152Z"
    },
    "jupyter": {
     "outputs_hidden": false
    }
   },
   "outputs": [
    {
     "name": "stdout",
     "output_type": "stream",
     "text": [
      "/notebooks/clothes-extractor\n",
      "Dataset already downloaded\n"
     ]
    }
   ],
   "source": [
    "# Type here the path for the data set\n",
    "dataset_path = os.path.join(\"datasets\", \"zalando-hd-resized\")\n",
    "!pwd\n",
    "\n",
    "# Dowload the dataset only if it does not exist\n",
    "if (os.path.exists(dataset_path)):\n",
    "  print(\"Dataset already downloaded\")\n",
    "else:\n",
    "  print(\"Dowloading dataset\")\n",
    "  os.makedirs(dataset_path, exist_ok=True)\n",
    "  path_components = dataset_path.split(os.path.sep)\n",
    "  new_path = os.path.sep.join(path_components[:-1])\n",
    "  with open(\"path_check.tmp\", 'w') as file:\n",
    "    file.write(new_path)\n",
    "  !wget https://www.dropbox.com/s/10bfat0kg4si1bu/zalando-hd-resized.zip\n",
    "  !echo \"Extracting the dataset. Please wait....\"\n",
    "  !unzip zalando-hd-resized.zip -d `cat path_check.tmp` > /dev/null\n",
    "  !rm path_check.tmp\n",
    "  !rm zalando-hd-resized.zip\n",
    "  print(\"Done\")"
   ]
  },
  {
   "cell_type": "code",
   "execution_count": null,
   "id": "28b8343d9ef226e7",
   "metadata": {
    "ExecuteTime": {
     "end_time": "2024-01-27T14:46:12.638640Z",
     "start_time": "2024-01-27T14:46:12.634345Z"
    },
    "collapsed": false,
    "execution": {
     "iopub.execute_input": "2024-02-04T17:24:17.670112Z",
     "iopub.status.busy": "2024-02-04T17:24:17.669473Z",
     "iopub.status.idle": "2024-02-04T17:24:17.673999Z",
     "shell.execute_reply": "2024-02-04T17:24:17.673473Z",
     "shell.execute_reply.started": "2024-02-04T17:24:17.670084Z"
    },
    "jupyter": {
     "outputs_hidden": false
    }
   },
   "outputs": [],
   "source": [
    "cfg = Config()\n",
    "cfg.batch_size = 32\n",
    "cfg.dataset_dir = dataset_path\n",
    "cfg.load_height = 28\n",
    "cfg.load_width = 28\n",
    "cfg.learning_rate = 0.0001\n",
    "cfg.num_epochs = 1\n",
    "cfg.num_val_samples = 10\n",
    "cfg.num_input_channels = 1\n",
    "cfg.num_classes = 10\n",
    "cfg.workers = 0\n",
    "cfg.max_batches = 1000\n",
    "cfg.angle_prob = 0"
   ]
  },
  {
   "cell_type": "code",
   "execution_count": null,
   "id": "a120d52189f939bd",
   "metadata": {
    "ExecuteTime": {
     "end_time": "2024-01-27T14:46:12.643145Z",
     "start_time": "2024-01-27T14:46:12.636317Z"
    },
    "collapsed": false,
    "execution": {
     "iopub.execute_input": "2024-02-04T17:24:25.429939Z",
     "iopub.status.busy": "2024-02-04T17:24:25.429360Z",
     "iopub.status.idle": "2024-02-04T17:24:25.444722Z",
     "shell.execute_reply": "2024-02-04T17:24:25.444145Z",
     "shell.execute_reply.started": "2024-02-04T17:24:25.429915Z"
    },
    "jupyter": {
     "outputs_hidden": false
    }
   },
   "outputs": [],
   "source": [
    "\n",
    "test_dataset = ClothesDataset(cfg, \"test\", device=device)\n",
    "train_dataset = ClothesDataset(cfg, \"train\", device=device)\n",
    "\n",
    "test_dataloader = ClothesDataLoader(test_dataset, cfg.batch_size, num_workers=cfg.workers)\n",
    "train_dataloader = ClothesDataLoader(train_dataset, batch_size=cfg.batch_size, num_workers=cfg.workers)"
   ]
  },
  {
   "cell_type": "code",
   "execution_count": null,
   "id": "bcf70ea2cc1084f2",
   "metadata": {
    "ExecuteTime": {
     "end_time": "2024-01-27T14:46:12.981010Z",
     "start_time": "2024-01-27T14:46:12.645257Z"
    },
    "collapsed": false,
    "execution": {
     "iopub.execute_input": "2024-02-04T17:24:26.646407Z",
     "iopub.status.busy": "2024-02-04T17:24:26.645826Z",
     "iopub.status.idle": "2024-02-04T17:24:28.370005Z",
     "shell.execute_reply": "2024-02-04T17:24:28.369273Z",
     "shell.execute_reply.started": "2024-02-04T17:24:26.646385Z"
    },
    "jupyter": {
     "outputs_hidden": false
    }
   },
   "outputs": [
    {
     "name": "stderr",
     "output_type": "stream",
     "text": [
      "Clipping input data to the valid range for imshow with RGB data ([0..1] for floats or [0..255] for integers).\n",
      "Clipping input data to the valid range for imshow with RGB data ([0..1] for floats or [0..255] for integers).\n"
     ]
    },
    {
     "data": {
      "image/png": "[encoded data removed]",
      "text/plain": [
       "<Figure size 2000x2000 with 2 Axes>"
      ]
     },
     "metadata": {},
     "output_type": "display_data"
    }
   ],
   "source": [
    "image = train_dataset[13]\n",
    "\n",
    "# image_keys = [\"img\", \"cloth\", \"cloth_mask\", \"predict\", \"agnostic_mask\", \"mask_body_parts\", \"mask_body\", \"centered_mask_body\", \"img_masked\"]\n",
    "image_keys = [\"target\", \"centered_mask_body\"]\n",
    "fig, axes = plt.subplots(1, len(image_keys), figsize=(20, 20))\n",
    "\n",
    "for ax, key in zip(axes, image_keys):\n",
    "    ax.imshow(image[key].cpu().permute(1, 2, 0))\n",
    "    ax.axis('off')\n",
    "    ax.set_title(key, rotation=90, fontsize=10)"
   ]
  },
  {
   "cell_type": "markdown",
   "id": "69c8073c937f8b12",
   "metadata": {},
   "source": [
    "# Defining the UNET\n",
    "![img](https://lmb.informatik.uni-freiburg.de/people/ronneber/u-net/u-net-architecture.png)"
   ]
  },
  {
   "cell_type": "markdown",
   "id": "533eead112462b0b",
   "metadata": {},
   "source": [
    "We are using the Unet defined in the [Model module from the repository](https://github.com/aidl-upc-2024-clothes-extractor/clothes-extractor/blob/main/src/model.py)"
   ]
  },
  {
   "cell_type": "code",
   "execution_count": null,
   "id": "d848fffc7a31f65f",
   "metadata": {
    "ExecuteTime": {
     "start_time": "2024-01-27T14:46:13.123758Z"
    },
    "collapsed": false,
    "execution": {
     "iopub.execute_input": "2024-02-04T17:24:47.212405Z",
     "iopub.status.busy": "2024-02-04T17:24:47.211859Z",
     "iopub.status.idle": "2024-02-04T17:24:47.216664Z",
     "shell.execute_reply": "2024-02-04T17:24:47.215451Z",
     "shell.execute_reply.started": "2024-02-04T17:24:47.212382Z"
    },
    "jupyter": {
     "outputs_hidden": false
    }
   },
   "outputs": [],
   "source": [
    "\n",
    "def visualize_nn_output(output, device, image_index=0):\n",
    "    output = output[image_index].squeeze().detach().cpu().numpy()\n",
    "\n",
    "    if output.shape[0] in [3, 4]:  # RGB or RGBA\n",
    "        output = np.transpose(output, (1, 2, 0))\n",
    "\n",
    "    plt.imshow(output)\n",
    "    plt.show()"
   ]
  },
  {
   "cell_type": "code",
   "execution_count": null,
   "id": "74753775b469a835",
   "metadata": {
    "ExecuteTime": {
     "end_time": "2024-01-27T14:46:13.294102Z",
     "start_time": "2024-01-27T14:46:13.126992Z"
    },
    "collapsed": false,
    "execution": {
     "iopub.execute_input": "2024-02-04T17:24:48.962385Z",
     "iopub.status.busy": "2024-02-04T17:24:48.961767Z",
     "iopub.status.idle": "2024-02-04T17:24:48.986401Z",
     "shell.execute_reply": "2024-02-04T17:24:48.985885Z",
     "shell.execute_reply.started": "2024-02-04T17:24:48.962361Z"
    },
    "jupyter": {
     "outputs_hidden": false
    }
   },
   "outputs": [],
   "source": [
    "model = Unet(in_channels=3, n_feat=32).to(device)\n",
    "# model = torch.load('best2.pth')"
   ]
  },
  {
   "cell_type": "code",
   "execution_count": null,
   "id": "49971562-3059-4b11-85e6-d4caeefeb5be",
   "metadata": {
    "execution": {
     "iopub.execute_input": "2024-02-04T17:24:53.729008Z",
     "iopub.status.busy": "2024-02-04T17:24:53.728421Z",
     "iopub.status.idle": "2024-02-04T17:24:56.364094Z",
     "shell.execute_reply": "2024-02-04T17:24:56.363505Z",
     "shell.execute_reply.started": "2024-02-04T17:24:53.728986Z"
    }
   },
   "outputs": [
    {
     "name": "stderr",
     "output_type": "stream",
     "text": [
      "Clipping input data to the valid range for imshow with RGB data ([0..1] for floats or [0..255] for integers).\n"
     ]
    },
    {
     "data": {
      "image/png": "[encoded data removed]",
      "text/plain": [
       "<Figure size 640x480 with 1 Axes>"
      ]
     },
     "metadata": {},
     "output_type": "display_data"
    }
   ],
   "source": [
    "inp = torch.randn(2,3,cfg.load_height,cfg.load_width).to(device) #As a sanity check, we define a random tensor with the same shape as an input image, to make sure that we can forward it to our network\n",
    "out = model(inp)\n",
    "\n",
    "visualize_nn_output(out, device)"
   ]
  },
  {
   "cell_type": "code",
   "execution_count": null,
   "id": "97b6571b-6bde-4f91-afae-b889d280e013",
   "metadata": {
    "execution": {
     "iopub.execute_input": "2024-02-04T17:31:11.407803Z",
     "iopub.status.busy": "2024-02-04T17:31:11.407196Z",
     "iopub.status.idle": "2024-02-04T17:31:11.419251Z",
     "shell.execute_reply": "2024-02-04T17:31:11.418699Z",
     "shell.execute_reply.started": "2024-02-04T17:31:11.407788Z"
    }
   },
   "outputs": [
    {
     "name": "stdout",
     "output_type": "stream",
     "text": [
      "torch.Size([2, 64, 4, 4])\n",
      "torch.Size([2, 64, 28, 28])\n"
     ]
    }
   ],
   "source": [
    "inp = torch.randn(2,64,28,28).to(device)\n",
    "out = model.to_vec(inp)\n",
    "print(out.shape)\n",
    "out = model.up0(out)\n",
    "print(out.shape)"
   ]
  },
  {
   "cell_type": "markdown",
   "id": "cdbb121f9e1f137f",
   "metadata": {},
   "source": [
    "The Train model function is the defined in the [train module from the project](https://github.com/aidl-upc-2024-clothes-extractor/clothes-extractor/blob/main/src/train.py)\n"
   ]
  },
  {
   "cell_type": "code",
   "execution_count": null,
   "id": "bd8151e6d729b16d",
   "metadata": {
    "ExecuteTime": {
     "end_time": "2024-01-27T14:46:13.306019Z",
     "start_time": "2024-01-27T14:46:13.274021Z"
    },
    "collapsed": false,
    "execution": {
     "iopub.execute_input": "2024-02-04T17:31:13.573848Z",
     "iopub.status.busy": "2024-02-04T17:31:13.573263Z",
     "iopub.status.idle": "2024-02-04T17:31:13.577759Z",
     "shell.execute_reply": "2024-02-04T17:31:13.577144Z",
     "shell.execute_reply.started": "2024-02-04T17:31:13.573828Z"
    },
    "jupyter": {
     "outputs_hidden": false
    }
   },
   "outputs": [],
   "source": [
    "def run_model_on_image(model, device, dataset, image_index):\n",
    "    model.eval()\n",
    "    \n",
    "    image = dataset[image_index]\n",
    "    image = image[\"centered_mask_body\"].to(device).unsqueeze(0)\n",
    "\n",
    "    \n",
    "    with torch.no_grad():\n",
    "        output = model(image)\n",
    "\n",
    "    return output\n"
   ]
  },
  {
   "cell_type": "code",
   "execution_count": null,
   "id": "bdc8bfdbcc570d6c",
   "metadata": {
    "ExecuteTime": {
     "end_time": "2024-01-27T15:06:03.458501Z",
     "start_time": "2024-01-27T14:46:13.304049Z"
    },
    "collapsed": false,
    "execution": {
     "iopub.execute_input": "2024-02-04T17:31:17.473636Z",
     "iopub.status.busy": "2024-02-04T17:31:17.473180Z"
    },
    "jupyter": {
     "outputs_hidden": false
    }
   },
   "outputs": [
    {
     "name": "stderr",
     "output_type": "stream",
     "text": [
      "/usr/local/lib/python3.9/dist-packages/torchvision/models/_utils.py:208: UserWarning: The parameter 'pretrained' is deprecated since 0.13 and will be removed in 0.15, please use 'weights' instead.\n",
      "  warnings.warn(\n",
      "/usr/local/lib/python3.9/dist-packages/torchvision/models/_utils.py:223: UserWarning: Arguments other than a weight enum or `None` for 'weights' are deprecated since 0.13 and will be removed in 0.15. The current behavior is equivalent to passing `weights=VGG16_Weights.IMAGENET1K_V1`. You can also use `weights=VGG16_Weights.DEFAULT` to get the most up-to-date weights.\n",
      "  warnings.warn(msg)\n"
     ]
    },
    {
     "name": "stdout",
     "output_type": "stream",
     "text": [
      "Start training\n"
     ]
    },
    {
     "data": {
      "application/vnd.jupyter.widget-view+json": {
       "model_id": "da8d83865a1f4b35bf4946ee89864a6f",
       "version_major": 2,
       "version_minor": 0
      },
      "text/plain": [
       "  0%|          | 0/1 [00:00<?, ?it/s]"
      ]
     },
     "metadata": {},
     "output_type": "display_data"
    },
    {
     "data": {
      "application/vnd.jupyter.widget-view+json": {
       "model_id": "9a60434773f5441d9063c155f7dc2c7f",
       "version_major": 2,
       "version_minor": 0
      },
      "text/plain": [
       "  0%|          | 0/363 [00:00<?, ?it/s]"
      ]
     },
     "metadata": {},
     "output_type": "display_data"
    },
    {
     "ename": "KeyboardInterrupt",
     "evalue": "",
     "output_type": "error",
     "traceback": [
      "\u001b[0;31m---------------------------------------------------------------------------\u001b[0m",
      "\u001b[0;31mKeyboardInterrupt\u001b[0m                         Traceback (most recent call last)",
      "Cell \u001b[0;32mIn [16], line 4\u001b[0m\n\u001b[1;32m      1\u001b[0m \u001b[38;5;66;03m# For testing purposes (There are so many images) we can limit the number of loaded batches, 0 is no limit\u001b[39;00m\n\u001b[1;32m      2\u001b[0m cfg\u001b[38;5;241m.\u001b[39mmax_batches \u001b[38;5;241m=\u001b[39m \u001b[38;5;241m0\u001b[39m\n\u001b[0;32m----> 4\u001b[0m trained_model \u001b[38;5;241m=\u001b[39m \u001b[43mtrain_model\u001b[49m\u001b[43m(\u001b[49m\u001b[43mmodel\u001b[49m\u001b[43m,\u001b[49m\u001b[43m \u001b[49m\u001b[43mdevice\u001b[49m\u001b[43m,\u001b[49m\u001b[43m \u001b[49m\u001b[43mtrain_dataloader\u001b[49m\u001b[43m,\u001b[49m\u001b[43m \u001b[49m\u001b[43mtest_dataloader\u001b[49m\u001b[43m,\u001b[49m\u001b[43m \u001b[49m\u001b[43mcfg\u001b[49m\u001b[38;5;241;43m.\u001b[39;49m\u001b[43mnum_epochs\u001b[49m\u001b[43m,\u001b[49m\u001b[43m \u001b[49m\u001b[43mcfg\u001b[49m\u001b[38;5;241;43m.\u001b[39;49m\u001b[43mlearning_rate\u001b[49m\u001b[43m,\u001b[49m\u001b[43m \u001b[49m\u001b[43mcfg\u001b[49m\u001b[38;5;241;43m.\u001b[39;49m\u001b[43mmax_batches\u001b[49m\u001b[43m)\u001b[49m\n",
      "File \u001b[0;32m/notebooks/clothes-extractor/src/train.py:79\u001b[0m, in \u001b[0;36mtrain_model\u001b[0;34m(model, device, train_dataloader, val_dataloader, num_epochs, learning_rate, max_batches)\u001b[0m\n\u001b[1;32m     76\u001b[0m model\u001b[38;5;241m.\u001b[39mtrain()\n\u001b[1;32m     77\u001b[0m running_loss \u001b[38;5;241m=\u001b[39m \u001b[38;5;241m0.0\u001b[39m\n\u001b[0;32m---> 79\u001b[0m \u001b[38;5;28;01mfor\u001b[39;00m batch_idx, inputs \u001b[38;5;129;01min\u001b[39;00m \u001b[38;5;28menumerate\u001b[39m(tqdm(train_dataloader\u001b[38;5;241m.\u001b[39mdata_loader)):\n\u001b[1;32m     80\u001b[0m     target \u001b[38;5;241m=\u001b[39m inputs [\u001b[38;5;124m\"\u001b[39m\u001b[38;5;124mtarget\u001b[39m\u001b[38;5;124m\"\u001b[39m]\u001b[38;5;241m.\u001b[39mto(device)\n\u001b[1;32m     81\u001b[0m     source \u001b[38;5;241m=\u001b[39m inputs[\u001b[38;5;124m\"\u001b[39m\u001b[38;5;124mcentered_mask_body\u001b[39m\u001b[38;5;124m\"\u001b[39m]\u001b[38;5;241m.\u001b[39mto(device)\n",
      "File \u001b[0;32m/usr/local/lib/python3.9/dist-packages/tqdm/notebook.py:259\u001b[0m, in \u001b[0;36mtqdm_notebook.__iter__\u001b[0;34m(self)\u001b[0m\n\u001b[1;32m    257\u001b[0m \u001b[38;5;28;01mtry\u001b[39;00m:\n\u001b[1;32m    258\u001b[0m     it \u001b[38;5;241m=\u001b[39m \u001b[38;5;28msuper\u001b[39m(tqdm_notebook, \u001b[38;5;28mself\u001b[39m)\u001b[38;5;241m.\u001b[39m\u001b[38;5;21m__iter__\u001b[39m()\n\u001b[0;32m--> 259\u001b[0m     \u001b[38;5;28;01mfor\u001b[39;00m obj \u001b[38;5;129;01min\u001b[39;00m it:\n\u001b[1;32m    260\u001b[0m         \u001b[38;5;66;03m# return super(tqdm...) will not catch exception\u001b[39;00m\n\u001b[1;32m    261\u001b[0m         \u001b[38;5;28;01myield\u001b[39;00m obj\n\u001b[1;32m    262\u001b[0m \u001b[38;5;66;03m# NB: except ... [ as ...] breaks IPython async KeyboardInterrupt\u001b[39;00m\n",
      "File \u001b[0;32m/usr/local/lib/python3.9/dist-packages/tqdm/std.py:1195\u001b[0m, in \u001b[0;36mtqdm.__iter__\u001b[0;34m(self)\u001b[0m\n\u001b[1;32m   1192\u001b[0m time \u001b[38;5;241m=\u001b[39m \u001b[38;5;28mself\u001b[39m\u001b[38;5;241m.\u001b[39m_time\n\u001b[1;32m   1194\u001b[0m \u001b[38;5;28;01mtry\u001b[39;00m:\n\u001b[0;32m-> 1195\u001b[0m     \u001b[38;5;28;01mfor\u001b[39;00m obj \u001b[38;5;129;01min\u001b[39;00m iterable:\n\u001b[1;32m   1196\u001b[0m         \u001b[38;5;28;01myield\u001b[39;00m obj\n\u001b[1;32m   1197\u001b[0m         \u001b[38;5;66;03m# Update and possibly print the progressbar.\u001b[39;00m\n\u001b[1;32m   1198\u001b[0m         \u001b[38;5;66;03m# Note: does not call self.update(1) for speed optimisation.\u001b[39;00m\n",
      "File \u001b[0;32m/usr/local/lib/python3.9/dist-packages/torch/utils/data/dataloader.py:681\u001b[0m, in \u001b[0;36m_BaseDataLoaderIter.__next__\u001b[0;34m(self)\u001b[0m\n\u001b[1;32m    678\u001b[0m \u001b[38;5;28;01mif\u001b[39;00m \u001b[38;5;28mself\u001b[39m\u001b[38;5;241m.\u001b[39m_sampler_iter \u001b[38;5;129;01mis\u001b[39;00m \u001b[38;5;28;01mNone\u001b[39;00m:\n\u001b[1;32m    679\u001b[0m     \u001b[38;5;66;03m# TODO(https://github.com/pytorch/pytorch/issues/76750)\u001b[39;00m\n\u001b[1;32m    680\u001b[0m     \u001b[38;5;28mself\u001b[39m\u001b[38;5;241m.\u001b[39m_reset()  \u001b[38;5;66;03m# type: ignore[call-arg]\u001b[39;00m\n\u001b[0;32m--> 681\u001b[0m data \u001b[38;5;241m=\u001b[39m \u001b[38;5;28;43mself\u001b[39;49m\u001b[38;5;241;43m.\u001b[39;49m\u001b[43m_next_data\u001b[49m\u001b[43m(\u001b[49m\u001b[43m)\u001b[49m\n\u001b[1;32m    682\u001b[0m \u001b[38;5;28mself\u001b[39m\u001b[38;5;241m.\u001b[39m_num_yielded \u001b[38;5;241m+\u001b[39m\u001b[38;5;241m=\u001b[39m \u001b[38;5;241m1\u001b[39m\n\u001b[1;32m    683\u001b[0m \u001b[38;5;28;01mif\u001b[39;00m \u001b[38;5;28mself\u001b[39m\u001b[38;5;241m.\u001b[39m_dataset_kind \u001b[38;5;241m==\u001b[39m _DatasetKind\u001b[38;5;241m.\u001b[39mIterable \u001b[38;5;129;01mand\u001b[39;00m \\\n\u001b[1;32m    684\u001b[0m         \u001b[38;5;28mself\u001b[39m\u001b[38;5;241m.\u001b[39m_IterableDataset_len_called \u001b[38;5;129;01mis\u001b[39;00m \u001b[38;5;129;01mnot\u001b[39;00m \u001b[38;5;28;01mNone\u001b[39;00m \u001b[38;5;129;01mand\u001b[39;00m \\\n\u001b[1;32m    685\u001b[0m         \u001b[38;5;28mself\u001b[39m\u001b[38;5;241m.\u001b[39m_num_yielded \u001b[38;5;241m>\u001b[39m \u001b[38;5;28mself\u001b[39m\u001b[38;5;241m.\u001b[39m_IterableDataset_len_called:\n",
      "File \u001b[0;32m/usr/local/lib/python3.9/dist-packages/torch/utils/data/dataloader.py:721\u001b[0m, in \u001b[0;36m_SingleProcessDataLoaderIter._next_data\u001b[0;34m(self)\u001b[0m\n\u001b[1;32m    719\u001b[0m \u001b[38;5;28;01mdef\u001b[39;00m \u001b[38;5;21m_next_data\u001b[39m(\u001b[38;5;28mself\u001b[39m):\n\u001b[1;32m    720\u001b[0m     index \u001b[38;5;241m=\u001b[39m \u001b[38;5;28mself\u001b[39m\u001b[38;5;241m.\u001b[39m_next_index()  \u001b[38;5;66;03m# may raise StopIteration\u001b[39;00m\n\u001b[0;32m--> 721\u001b[0m     data \u001b[38;5;241m=\u001b[39m \u001b[38;5;28;43mself\u001b[39;49m\u001b[38;5;241;43m.\u001b[39;49m\u001b[43m_dataset_fetcher\u001b[49m\u001b[38;5;241;43m.\u001b[39;49m\u001b[43mfetch\u001b[49m\u001b[43m(\u001b[49m\u001b[43mindex\u001b[49m\u001b[43m)\u001b[49m  \u001b[38;5;66;03m# may raise StopIteration\u001b[39;00m\n\u001b[1;32m    722\u001b[0m     \u001b[38;5;28;01mif\u001b[39;00m \u001b[38;5;28mself\u001b[39m\u001b[38;5;241m.\u001b[39m_pin_memory:\n\u001b[1;32m    723\u001b[0m         data \u001b[38;5;241m=\u001b[39m _utils\u001b[38;5;241m.\u001b[39mpin_memory\u001b[38;5;241m.\u001b[39mpin_memory(data, \u001b[38;5;28mself\u001b[39m\u001b[38;5;241m.\u001b[39m_pin_memory_device)\n",
      "File \u001b[0;32m/usr/local/lib/python3.9/dist-packages/torch/utils/data/_utils/fetch.py:49\u001b[0m, in \u001b[0;36m_MapDatasetFetcher.fetch\u001b[0;34m(self, possibly_batched_index)\u001b[0m\n\u001b[1;32m     47\u001b[0m \u001b[38;5;28;01mdef\u001b[39;00m \u001b[38;5;21mfetch\u001b[39m(\u001b[38;5;28mself\u001b[39m, possibly_batched_index):\n\u001b[1;32m     48\u001b[0m     \u001b[38;5;28;01mif\u001b[39;00m \u001b[38;5;28mself\u001b[39m\u001b[38;5;241m.\u001b[39mauto_collation:\n\u001b[0;32m---> 49\u001b[0m         data \u001b[38;5;241m=\u001b[39m [\u001b[38;5;28mself\u001b[39m\u001b[38;5;241m.\u001b[39mdataset[idx] \u001b[38;5;28;01mfor\u001b[39;00m idx \u001b[38;5;129;01min\u001b[39;00m possibly_batched_index]\n\u001b[1;32m     50\u001b[0m     \u001b[38;5;28;01melse\u001b[39;00m:\n\u001b[1;32m     51\u001b[0m         data \u001b[38;5;241m=\u001b[39m \u001b[38;5;28mself\u001b[39m\u001b[38;5;241m.\u001b[39mdataset[possibly_batched_index]\n",
      "File \u001b[0;32m/usr/local/lib/python3.9/dist-packages/torch/utils/data/_utils/fetch.py:49\u001b[0m, in \u001b[0;36m<listcomp>\u001b[0;34m(.0)\u001b[0m\n\u001b[1;32m     47\u001b[0m \u001b[38;5;28;01mdef\u001b[39;00m \u001b[38;5;21mfetch\u001b[39m(\u001b[38;5;28mself\u001b[39m, possibly_batched_index):\n\u001b[1;32m     48\u001b[0m     \u001b[38;5;28;01mif\u001b[39;00m \u001b[38;5;28mself\u001b[39m\u001b[38;5;241m.\u001b[39mauto_collation:\n\u001b[0;32m---> 49\u001b[0m         data \u001b[38;5;241m=\u001b[39m [\u001b[38;5;28;43mself\u001b[39;49m\u001b[38;5;241;43m.\u001b[39;49m\u001b[43mdataset\u001b[49m\u001b[43m[\u001b[49m\u001b[43midx\u001b[49m\u001b[43m]\u001b[49m \u001b[38;5;28;01mfor\u001b[39;00m idx \u001b[38;5;129;01min\u001b[39;00m possibly_batched_index]\n\u001b[1;32m     50\u001b[0m     \u001b[38;5;28;01melse\u001b[39;00m:\n\u001b[1;32m     51\u001b[0m         data \u001b[38;5;241m=\u001b[39m \u001b[38;5;28mself\u001b[39m\u001b[38;5;241m.\u001b[39mdataset[possibly_batched_index]\n",
      "File \u001b[0;32m/notebooks/clothes-extractor/src/dataset.py:75\u001b[0m, in \u001b[0;36mClothesDataset.__getitem__\u001b[0;34m(self, index)\u001b[0m\n\u001b[1;32m     63\u001b[0m     img_torch \u001b[38;5;241m=\u001b[39m random_rotation(img_torch)\n\u001b[1;32m     65\u001b[0m \u001b[38;5;66;03m# img_final = self.transform(img_torch)\u001b[39;00m\n\u001b[1;32m     66\u001b[0m \n\u001b[1;32m     67\u001b[0m \u001b[38;5;66;03m# agnostic_mask = io.read_image(os.path.join(self.data_path, 'agnostic-mask', img_name.replace(\".jpg\",\"_mask.png\")))\u001b[39;00m\n\u001b[0;32m   (...)\u001b[0m\n\u001b[1;32m     72\u001b[0m \u001b[38;5;66;03m#     agnostic_mask = random_rotation(agnostic_mask)\u001b[39;00m\n\u001b[1;32m     73\u001b[0m \u001b[38;5;66;03m# agnostic_mask = self.transform(agnostic_mask)\u001b[39;00m\n\u001b[0;32m---> 75\u001b[0m mask_body_parts \u001b[38;5;241m=\u001b[39m \u001b[38;5;28;43mself\u001b[39;49m\u001b[38;5;241;43m.\u001b[39;49m\u001b[43mconvert_to_rgb_tensor\u001b[49m\u001b[43m(\u001b[49m\u001b[43mpath\u001b[49m\u001b[38;5;241;43m.\u001b[39;49m\u001b[43mjoin\u001b[49m\u001b[43m(\u001b[49m\u001b[38;5;28;43mself\u001b[39;49m\u001b[38;5;241;43m.\u001b[39;49m\u001b[43mdata_path\u001b[49m\u001b[43m,\u001b[49m\u001b[43m \u001b[49m\u001b[38;5;124;43m'\u001b[39;49m\u001b[38;5;124;43mimage-parse-v3\u001b[39;49m\u001b[38;5;124;43m'\u001b[39;49m\u001b[43m,\u001b[49m\u001b[43m \u001b[49m\u001b[43mimg_name\u001b[49m\u001b[38;5;241;43m.\u001b[39;49m\u001b[43mreplace\u001b[49m\u001b[43m(\u001b[49m\u001b[38;5;124;43m\"\u001b[39;49m\u001b[38;5;124;43m.jpg\u001b[39;49m\u001b[38;5;124;43m\"\u001b[39;49m\u001b[43m,\u001b[49m\u001b[38;5;124;43m\"\u001b[39;49m\u001b[38;5;124;43m.png\u001b[39;49m\u001b[38;5;124;43m\"\u001b[39;49m\u001b[43m)\u001b[49m\u001b[43m)\u001b[49m\u001b[43m)\u001b[49m\n\u001b[1;32m     76\u001b[0m mask_body_parts \u001b[38;5;241m=\u001b[39m mask_body_parts\u001b[38;5;241m.\u001b[39mto(\u001b[38;5;28mself\u001b[39m\u001b[38;5;241m.\u001b[39mdevice)\n\u001b[1;32m     78\u001b[0m \u001b[38;5;28;01mif\u001b[39;00m horizontal_flip:\n",
      "File \u001b[0;32m/notebooks/clothes-extractor/src/dataset.py:164\u001b[0m, in \u001b[0;36mClothesDataset.convert_to_rgb_tensor\u001b[0;34m(image_path)\u001b[0m\n\u001b[1;32m    162\u001b[0m     image \u001b[38;5;241m=\u001b[39m image\u001b[38;5;241m.\u001b[39mconvert(\u001b[38;5;124m'\u001b[39m\u001b[38;5;124mRGB\u001b[39m\u001b[38;5;124m'\u001b[39m)\n\u001b[1;32m    163\u001b[0m transform \u001b[38;5;241m=\u001b[39m transforms\u001b[38;5;241m.\u001b[39mToTensor()\n\u001b[0;32m--> 164\u001b[0m \u001b[38;5;28;01mreturn\u001b[39;00m \u001b[43mtransform\u001b[49m\u001b[43m(\u001b[49m\u001b[43mimage\u001b[49m\u001b[43m)\u001b[49m\n",
      "File \u001b[0;32m/usr/local/lib/python3.9/dist-packages/torchvision/transforms/transforms.py:134\u001b[0m, in \u001b[0;36mToTensor.__call__\u001b[0;34m(self, pic)\u001b[0m\n\u001b[1;32m    126\u001b[0m \u001b[38;5;28;01mdef\u001b[39;00m \u001b[38;5;21m__call__\u001b[39m(\u001b[38;5;28mself\u001b[39m, pic):\n\u001b[1;32m    127\u001b[0m \u001b[38;5;250m    \u001b[39m\u001b[38;5;124;03m\"\"\"\u001b[39;00m\n\u001b[1;32m    128\u001b[0m \u001b[38;5;124;03m    Args:\u001b[39;00m\n\u001b[1;32m    129\u001b[0m \u001b[38;5;124;03m        pic (PIL Image or numpy.ndarray): Image to be converted to tensor.\u001b[39;00m\n\u001b[0;32m   (...)\u001b[0m\n\u001b[1;32m    132\u001b[0m \u001b[38;5;124;03m        Tensor: Converted image.\u001b[39;00m\n\u001b[1;32m    133\u001b[0m \u001b[38;5;124;03m    \"\"\"\u001b[39;00m\n\u001b[0;32m--> 134\u001b[0m     \u001b[38;5;28;01mreturn\u001b[39;00m \u001b[43mF\u001b[49m\u001b[38;5;241;43m.\u001b[39;49m\u001b[43mto_tensor\u001b[49m\u001b[43m(\u001b[49m\u001b[43mpic\u001b[49m\u001b[43m)\u001b[49m\n",
      "File \u001b[0;32m/usr/local/lib/python3.9/dist-packages/torchvision/transforms/functional.py:172\u001b[0m, in \u001b[0;36mto_tensor\u001b[0;34m(pic)\u001b[0m\n\u001b[1;32m    170\u001b[0m img \u001b[38;5;241m=\u001b[39m img\u001b[38;5;241m.\u001b[39mpermute((\u001b[38;5;241m2\u001b[39m, \u001b[38;5;241m0\u001b[39m, \u001b[38;5;241m1\u001b[39m))\u001b[38;5;241m.\u001b[39mcontiguous()\n\u001b[1;32m    171\u001b[0m \u001b[38;5;28;01mif\u001b[39;00m \u001b[38;5;28misinstance\u001b[39m(img, torch\u001b[38;5;241m.\u001b[39mByteTensor):\n\u001b[0;32m--> 172\u001b[0m     \u001b[38;5;28;01mreturn\u001b[39;00m \u001b[43mimg\u001b[49m\u001b[38;5;241;43m.\u001b[39;49m\u001b[43mto\u001b[49m\u001b[43m(\u001b[49m\u001b[43mdtype\u001b[49m\u001b[38;5;241;43m=\u001b[39;49m\u001b[43mdefault_float_dtype\u001b[49m\u001b[43m)\u001b[49m\u001b[38;5;241;43m.\u001b[39;49m\u001b[43mdiv\u001b[49m\u001b[43m(\u001b[49m\u001b[38;5;241;43m255\u001b[39;49m\u001b[43m)\u001b[49m\n\u001b[1;32m    173\u001b[0m \u001b[38;5;28;01melse\u001b[39;00m:\n\u001b[1;32m    174\u001b[0m     \u001b[38;5;28;01mreturn\u001b[39;00m img\n",
      "\u001b[0;31mKeyboardInterrupt\u001b[0m: "
     ]
    }
   ],
   "source": [
    "# For testing purposes (There are so many images) we can limit the number of loaded batches, 0 is no limit\n",
    "cfg.max_batches = 0\n",
    "\n",
    "trained_model = train_model(model, device, train_dataloader, test_dataloader, cfg.num_epochs, cfg.learning_rate, cfg.max_batches)\n"
   ]
  },
  {
   "cell_type": "code",
   "execution_count": null,
   "id": "abf1f29d",
   "metadata": {},
   "outputs": [
    {
     "name": "stdout",
     "output_type": "stream",
     "text": [
      "Dockerfile  LICENSE    best5.pth  docs\t\t    src\n",
      "Jupyters    README.md  datasets   requirements.txt\n",
      "Sun Feb  4 18:54:46 2024       \n",
      "+-----------------------------------------------------------------------------+\n",
      "| NVIDIA-SMI 525.116.04   Driver Version: 525.116.04   CUDA Version: 12.0     |\n",
      "|-------------------------------+----------------------+----------------------+\n",
      "| GPU  Name        Persistence-M| Bus-Id        Disp.A | Volatile Uncorr. ECC |\n",
      "| Fan  Temp  Perf  Pwr:Usage/Cap|         Memory-Usage | GPU-Util  Compute M. |\n",
      "|                               |                      |               MIG M. |\n",
      "|===============================+======================+======================|\n",
      "|   0  NVIDIA RTX A4000    Off  | 00000000:00:05.0 Off |                  Off |\n",
      "| 41%   44C    P8    16W / 140W |  11343MiB / 16376MiB |      0%      Default |\n",
      "|                               |                      |                  N/A |\n",
      "+-------------------------------+----------------------+----------------------+\n",
      "                                                                               \n",
      "+-----------------------------------------------------------------------------+\n",
      "| Processes:                                                                  |\n",
      "|  GPU   GI   CI        PID   Type   Process name                  GPU Memory |\n",
      "|        ID   ID                                                   Usage      |\n",
      "|=============================================================================|\n",
      "+-----------------------------------------------------------------------------+\n"
     ]
    }
   ],
   "source": [
    "!ls\n",
    "!nvidia-smi"
   ]
  },
  {
   "cell_type": "code",
   "execution_count": null,
   "id": "84d1adcb98e9e353",
   "metadata": {
    "ExecuteTime": {
     "end_time": "2024-01-27T15:06:03.462175Z",
     "start_time": "2024-01-27T15:06:03.460168Z"
    },
    "collapsed": false,
    "execution": {
     "iopub.status.busy": "2024-02-04T16:52:48.842338Z",
     "iopub.status.idle": "2024-02-04T16:52:48.842496Z",
     "shell.execute_reply": "2024-02-04T16:52:48.842431Z",
     "shell.execute_reply.started": "2024-02-04T16:52:48.842425Z"
    },
    "jupyter": {
     "outputs_hidden": false
    }
   },
   "outputs": [
    {
     "name": "stderr",
     "output_type": "stream",
     "text": [
      "Clipping input data to the valid range for imshow with RGB data ([0..1] for floats or [0..255] for integers).\n"
     ]
    },
    {
     "data": {
      "image/png": "[encoded data removed]",
      "text/plain": [
       "<Figure size 640x480 with 1 Axes>"
      ]
     },
     "metadata": {},
     "output_type": "display_data"
    }
   ],
   "source": [
    "model = torch.load('best5.pth')\n",
    "out = run_model_on_image(model, device, train_dataset, 2)\n",
    "visualize_nn_output(out, device)"
   ]
  },
  {
   "cell_type": "code",
   "execution_count": null,
   "id": "d5616f40-a20f-49e8-a03c-51d6f3430494",
   "metadata": {
    "execution": {
     "iopub.status.busy": "2024-02-04T16:52:48.843106Z",
     "iopub.status.idle": "2024-02-04T16:52:48.843271Z",
     "shell.execute_reply": "2024-02-04T16:52:48.843197Z",
     "shell.execute_reply.started": "2024-02-04T16:52:48.843188Z"
    }
   },
   "outputs": [],
   "source": [
    "torch.save(model, 'best5.pth')"
   ]
  },
  {
   "cell_type": "code",
   "execution_count": null,
   "id": "c2d5cf8c0c647854",
   "metadata": {
    "ExecuteTime": {
     "start_time": "2024-01-27T15:06:03.461434Z"
    },
    "collapsed": false,
    "execution": {
     "iopub.status.busy": "2024-02-04T16:52:48.844316Z",
     "iopub.status.idle": "2024-02-04T16:52:48.844512Z",
     "shell.execute_reply": "2024-02-04T16:52:48.844415Z",
     "shell.execute_reply.started": "2024-02-04T16:52:48.844404Z"
    },
    "jupyter": {
     "outputs_hidden": false
    }
   },
   "outputs": [],
   "source": [
    "import src.dataset as dataset\n",
    "import importlib\n",
    "importlib.reload(dataset)"
   ]
  },
  {
   "cell_type": "code",
   "execution_count": null,
   "id": "39922218-ea28-4060-9d96-76937bda807a",
   "metadata": {
    "execution": {
     "iopub.status.busy": "2024-02-04T16:52:48.845899Z",
     "iopub.status.idle": "2024-02-04T16:52:48.846091Z",
     "shell.execute_reply": "2024-02-04T16:52:48.846014Z",
     "shell.execute_reply.started": "2024-02-04T16:52:48.846014Z"
    }
   },
   "outputs": [],
   "source": [
    "model"
   ]
  },
  {
   "cell_type": "code",
   "execution_count": null,
   "id": "edfc9063-586b-466d-982e-d2bea23a744c",
   "metadata": {},
   "outputs": [
    {
     "name": "stderr",
     "output_type": "stream",
     "text": [
      "100%|██████████| 10/10 [00:10<00:00,  1.00s/it]\n"
     ]
    }
   ],
   "source": [
    "from tqdm import tqdm\n",
    "import time\n",
    "\n",
    "num_epochs = 10\n",
    "for epoch in tqdm(range(num_epochs)):\n",
    "    time.sleep(1)"
   ]
  },
  {
   "cell_type": "code",
   "execution_count": null,
   "id": "eebe7488-0b86-47d8-be3c-2e094533cd19",
   "metadata": {},
   "outputs": [
    {
     "data": {
      "text/plain": [
       "'ZMQInteractiveShell'"
      ]
     },
     "execution_count": 26,
     "metadata": {},
     "output_type": "execute_result"
    }
   ],
   "source": [
    "get_ipython().__class__.__name__"
   ]
  }
 ],
 "metadata": {
  "kernelspec": {
   "display_name": "Python 3 (ipykernel)",
   "language": "python",
   "name": "python3"
  },
  "language_info": {
   "codemirror_mode": {
    "name": "ipython",
    "version": 3
   },
   "file_extension": ".py",
   "mimetype": "text/x-python",
   "name": "python",
   "nbconvert_exporter": "python",
   "pygments_lexer": "ipython3",
   "version": "3.9.16"
  }
 },
 "nbformat": 4,
 "nbformat_minor": 5
}
