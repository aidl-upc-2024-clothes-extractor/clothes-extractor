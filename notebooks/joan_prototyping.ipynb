{
 "cells": [
  {
   "cell_type": "code",
   "execution_count": 1,
   "id": "9c1b7d6bf6777baf",
   "metadata": {
    "ExecuteTime": {
     "end_time": "2024-01-27T15:13:07.524719Z",
     "start_time": "2024-01-27T15:13:07.516577Z"
    },
    "collapsed": false,
    "execution": {
     "iopub.execute_input": "2024-02-04T16:53:25.181674Z",
     "iopub.status.busy": "2024-02-04T16:53:25.181051Z",
     "iopub.status.idle": "2024-02-04T16:53:25.184955Z",
     "shell.execute_reply": "2024-02-04T16:53:25.184364Z",
     "shell.execute_reply.started": "2024-02-04T16:53:25.181648Z"
    },
    "jupyter": {
     "outputs_hidden": false
    }
   },
   "outputs": [],
   "source": [
    "# Check if running in colab\n",
    "try:\n",
    "  import google.colab\n",
    "  IN_COLAB = True\n",
    "except:\n",
    "  IN_COLAB = False\n",
    "  "
   ]
  },
  {
   "cell_type": "code",
   "execution_count": 2,
   "id": "8b6f2ff1",
   "metadata": {},
   "outputs": [
    {
     "name": "stdout",
     "output_type": "stream",
     "text": [
      "Requirement already satisfied: segmentation-models-pytorch in /usr/local/lib/python3.9/dist-packages (0.3.3)\n",
      "Requirement already satisfied: efficientnet-pytorch==0.7.1 in /usr/local/lib/python3.9/dist-packages (from segmentation-models-pytorch) (0.7.1)\n",
      "Requirement already satisfied: timm==0.9.2 in /usr/local/lib/python3.9/dist-packages (from segmentation-models-pytorch) (0.9.2)\n",
      "Requirement already satisfied: pretrainedmodels==0.7.4 in /usr/local/lib/python3.9/dist-packages (from segmentation-models-pytorch) (0.7.4)\n",
      "Requirement already satisfied: tqdm in /usr/local/lib/python3.9/dist-packages (from segmentation-models-pytorch) (4.64.1)\n",
      "Requirement already satisfied: torchvision>=0.5.0 in /usr/local/lib/python3.9/dist-packages (from segmentation-models-pytorch) (0.13.1+cu116)\n",
      "Requirement already satisfied: pillow in /usr/local/lib/python3.9/dist-packages (from segmentation-models-pytorch) (9.2.0)\n",
      "Requirement already satisfied: torch in /usr/local/lib/python3.9/dist-packages (from efficientnet-pytorch==0.7.1->segmentation-models-pytorch) (1.12.1+cu116)\n",
      "Requirement already satisfied: munch in /usr/local/lib/python3.9/dist-packages (from pretrainedmodels==0.7.4->segmentation-models-pytorch) (4.0.0)\n",
      "Requirement already satisfied: safetensors in /usr/local/lib/python3.9/dist-packages (from timm==0.9.2->segmentation-models-pytorch) (0.4.2)\n",
      "Requirement already satisfied: huggingface-hub in /usr/local/lib/python3.9/dist-packages (from timm==0.9.2->segmentation-models-pytorch) (0.12.0)\n",
      "Requirement already satisfied: pyyaml in /usr/local/lib/python3.9/dist-packages (from timm==0.9.2->segmentation-models-pytorch) (5.4.1)\n",
      "Requirement already satisfied: typing-extensions in /usr/local/lib/python3.9/dist-packages (from torchvision>=0.5.0->segmentation-models-pytorch) (4.4.0)\n",
      "Requirement already satisfied: requests in /usr/local/lib/python3.9/dist-packages (from torchvision>=0.5.0->segmentation-models-pytorch) (2.28.2)\n",
      "Requirement already satisfied: numpy in /usr/local/lib/python3.9/dist-packages (from torchvision>=0.5.0->segmentation-models-pytorch) (1.23.4)\n",
      "Requirement already satisfied: packaging>=20.9 in /usr/local/lib/python3.9/dist-packages (from huggingface-hub->timm==0.9.2->segmentation-models-pytorch) (23.0)\n",
      "Requirement already satisfied: filelock in /usr/local/lib/python3.9/dist-packages (from huggingface-hub->timm==0.9.2->segmentation-models-pytorch) (3.9.0)\n",
      "Requirement already satisfied: idna<4,>=2.5 in /usr/lib/python3/dist-packages (from requests->torchvision>=0.5.0->segmentation-models-pytorch) (2.8)\n",
      "Requirement already satisfied: certifi>=2017.4.17 in /usr/lib/python3/dist-packages (from requests->torchvision>=0.5.0->segmentation-models-pytorch) (2019.11.28)\n",
      "Requirement already satisfied: urllib3<1.27,>=1.21.1 in /usr/local/lib/python3.9/dist-packages (from requests->torchvision>=0.5.0->segmentation-models-pytorch) (1.26.14)\n",
      "Requirement already satisfied: charset-normalizer<4,>=2 in /usr/local/lib/python3.9/dist-packages (from requests->torchvision>=0.5.0->segmentation-models-pytorch) (2.1.1)\n",
      "\u001b[33mWARNING: Running pip as the 'root' user can result in broken permissions and conflicting behaviour with the system package manager. It is recommended to use a virtual environment instead: https://pip.pypa.io/warnings/venv\u001b[0m\u001b[33m\n",
      "\u001b[0mNote: you may need to restart the kernel to use updated packages.\n"
     ]
    }
   ],
   "source": [
    "# Install required packages\n",
    "%pip install -U segmentation-models-pytorch"
   ]
  },
  {
   "cell_type": "code",
   "execution_count": 3,
   "id": "78d0af22769158d4",
   "metadata": {
    "ExecuteTime": {
     "end_time": "2024-01-27T15:18:08.305644Z",
     "start_time": "2024-01-27T15:18:08.299904Z"
    },
    "collapsed": false,
    "execution": {
     "iopub.execute_input": "2024-02-04T16:53:27.175700Z",
     "iopub.status.busy": "2024-02-04T16:53:27.175367Z",
     "iopub.status.idle": "2024-02-04T16:53:27.180647Z",
     "shell.execute_reply": "2024-02-04T16:53:27.180058Z",
     "shell.execute_reply.started": "2024-02-04T16:53:27.175686Z"
    },
    "jupyter": {
     "outputs_hidden": false
    }
   },
   "outputs": [],
   "source": [
    "if IN_COLAB :\n",
    "    # If we are in colab we don't have access to our custom modules so we clone the repository\n",
    "    !git clone https://github.com/aidl-upc-2024-clothes-extractor/clothes-extractor.git\n",
    "    # Pull last data from git\n",
    "    !cd clothes-extractor && git pull && cd .."
   ]
  },
  {
   "cell_type": "code",
   "execution_count": 4,
   "id": "e4fae2ef368fcce7",
   "metadata": {
    "collapsed": false,
    "execution": {
     "iopub.execute_input": "2024-02-04T16:53:29.071529Z",
     "iopub.status.busy": "2024-02-04T16:53:29.071278Z",
     "iopub.status.idle": "2024-02-04T16:53:29.075093Z",
     "shell.execute_reply": "2024-02-04T16:53:29.074558Z",
     "shell.execute_reply.started": "2024-02-04T16:53:29.071511Z"
    },
    "jupyter": {
     "outputs_hidden": false
    }
   },
   "outputs": [],
   "source": [
    "import numpy as np\n",
    "import torch\n",
    "from torch.utils.data import DataLoader\n",
    "import matplotlib.pyplot as plt\n",
    "import os\n",
    "import segmentation_models_pytorch as smp"
   ]
  },
  {
   "cell_type": "code",
   "execution_count": 5,
   "id": "1560d122312ffd91",
   "metadata": {
    "ExecuteTime": {
     "start_time": "2024-01-27T15:06:28.104619Z"
    },
    "execution": {
     "iopub.execute_input": "2024-02-04T16:53:32.144408Z",
     "iopub.status.busy": "2024-02-04T16:53:32.143626Z",
     "iopub.status.idle": "2024-02-04T16:53:32.149422Z",
     "shell.execute_reply": "2024-02-04T16:53:32.148589Z",
     "shell.execute_reply.started": "2024-02-04T16:53:32.144378Z"
    }
   },
   "outputs": [
    {
     "name": "stdout",
     "output_type": "stream",
     "text": [
      "/notebooks\n",
      "/notebooks/clothes-extractor\n"
     ]
    }
   ],
   "source": [
    "if '_dh' in dict(globals()):\n",
    "  # Import code form our github\n",
    "  from pathlib import Path\n",
    "\n",
    "  current_folder = globals()['_dh'][0]\n",
    "  print(current_folder)\n",
    "  # parent = Path(current_folder).parent\n",
    "  # os.chdir(str(parent))\n",
    "  # This is hard coded to be able to run the notebook using a remote kernel\n",
    "  os.chdir(\"/notebooks/clothes-extractor\")\n",
    "  print(os.getcwd())\n",
    "\n",
    "  \n",
    "# Project imports\n",
    "from dataset.dataset import ClothesDataLoader, ClothesDataset\n",
    "from config import Config\n",
    "from models.unet import Unet\n",
    "import models.model_store as model_store\n",
    "from trainer.trainer import train_model"
   ]
  },
  {
   "cell_type": "code",
   "execution_count": 6,
   "id": "a3c7d0ec93a4abe0",
   "metadata": {
    "ExecuteTime": {
     "end_time": "2024-01-27T14:46:12.470350Z",
     "start_time": "2024-01-27T14:46:12.466781Z"
    },
    "collapsed": false,
    "execution": {
     "iopub.execute_input": "2024-02-04T16:53:34.543294Z",
     "iopub.status.busy": "2024-02-04T16:53:34.542207Z",
     "iopub.status.idle": "2024-02-04T16:53:34.548190Z",
     "shell.execute_reply": "2024-02-04T16:53:34.547499Z",
     "shell.execute_reply.started": "2024-02-04T16:53:34.543273Z"
    },
    "jupyter": {
     "outputs_hidden": false
    }
   },
   "outputs": [
    {
     "name": "stdout",
     "output_type": "stream",
     "text": [
      "cuda\n"
     ]
    }
   ],
   "source": [
    "seed = 22\n",
    "torch.manual_seed(seed)\n",
    "torch.torch.cuda.manual_seed_all(seed)\n",
    "# torch.mps.manual_seed(seed)\n",
    "\n",
    "torch.backends.cudnn.deterministic = True\n",
    "torch.backends.cudnn.benchmark = False\n",
    "np.random.seed(seed)\n",
    "\n",
    "device = torch.device(\"cuda\" if torch.cuda.is_available() else \"cpu\")\n",
    "if torch.backends.mps.is_available() and torch.backends.mps.is_built() and torch.device != \"cuda\":\n",
    "  device = torch.device(\"mps\")\n",
    "print(device)"
   ]
  },
  {
   "cell_type": "code",
   "execution_count": 7,
   "id": "3ab671852634b590",
   "metadata": {
    "ExecuteTime": {
     "end_time": "2024-01-27T14:46:12.634027Z",
     "start_time": "2024-01-27T14:46:12.492220Z"
    },
    "collapsed": false,
    "execution": {
     "iopub.execute_input": "2024-02-04T16:54:09.628197Z",
     "iopub.status.busy": "2024-02-04T16:54:09.627243Z",
     "iopub.status.idle": "2024-02-04T16:55:36.653214Z",
     "shell.execute_reply": "2024-02-04T16:55:36.652549Z",
     "shell.execute_reply.started": "2024-02-04T16:54:09.628152Z"
    },
    "jupyter": {
     "outputs_hidden": false
    }
   },
   "outputs": [
    {
     "name": "stdout",
     "output_type": "stream",
     "text": [
      "/notebooks/clothes-extractor\n",
      "Dataset already downloaded\n"
     ]
    }
   ],
   "source": [
    "# Type here the path for the data set\n",
    "dataset_path = os.path.join(\"data\", \"zalando-hd-resized\")\n",
    "!pwd\n",
    "\n",
    "# Dowload the dataset only if it does not exist\n",
    "if (os.path.exists(dataset_path)):\n",
    "  print(\"Dataset already downloaded\")\n",
    "else:\n",
    "  print(\"Dowloading dataset\")\n",
    "  os.makedirs(dataset_path, exist_ok=True)\n",
    "  path_components = dataset_path.split(os.path.sep)\n",
    "  new_path = os.path.sep.join(path_components[:-1])\n",
    "  with open(\"path_check.tmp\", 'w') as file:\n",
    "    file.write(new_path)\n",
    "  !wget https://www.dropbox.com/s/10bfat0kg4si1bu/zalando-hd-resized.zip\n",
    "  !echo \"Extracting the dataset. Please wait....\"\n",
    "  !unzip zalando-hd-resized.zip -d `cat path_check.tmp` > /dev/null\n",
    "  !rm path_check.tmp\n",
    "  !rm zalando-hd-resized.zip\n",
    "  print(\"Done\")"
   ]
  },
  {
   "cell_type": "code",
   "execution_count": 14,
   "id": "28b8343d9ef226e7",
   "metadata": {
    "ExecuteTime": {
     "end_time": "2024-01-27T14:46:12.638640Z",
     "start_time": "2024-01-27T14:46:12.634345Z"
    },
    "collapsed": false,
    "execution": {
     "iopub.execute_input": "2024-02-04T17:24:17.670112Z",
     "iopub.status.busy": "2024-02-04T17:24:17.669473Z",
     "iopub.status.idle": "2024-02-04T17:24:17.673999Z",
     "shell.execute_reply": "2024-02-04T17:24:17.673473Z",
     "shell.execute_reply.started": "2024-02-04T17:24:17.670084Z"
    },
    "jupyter": {
     "outputs_hidden": false
    }
   },
   "outputs": [],
   "source": [
    "cfg = Config()\n",
    "cfg.batch_size = 32\n",
    "cfg.dataset_dir = dataset_path\n",
    "cfg.load_height = 224\n",
    "cfg.load_width = 224\n",
    "cfg.learning_rate = 0.0001\n",
    "cfg.num_epochs = 25\n",
    "cfg.num_val_samples = 10\n",
    "cfg.num_input_channels = 1\n",
    "cfg.num_classes = 10\n",
    "cfg.workers = 0\n",
    "cfg.max_batches = 1000\n",
    "cfg.angle_prob = 0"
   ]
  },
  {
   "cell_type": "code",
   "execution_count": 15,
   "id": "a120d52189f939bd",
   "metadata": {
    "ExecuteTime": {
     "end_time": "2024-01-27T14:46:12.643145Z",
     "start_time": "2024-01-27T14:46:12.636317Z"
    },
    "collapsed": false,
    "execution": {
     "iopub.execute_input": "2024-02-04T17:24:25.429939Z",
     "iopub.status.busy": "2024-02-04T17:24:25.429360Z",
     "iopub.status.idle": "2024-02-04T17:24:25.444722Z",
     "shell.execute_reply": "2024-02-04T17:24:25.444145Z",
     "shell.execute_reply.started": "2024-02-04T17:24:25.429915Z"
    },
    "jupyter": {
     "outputs_hidden": false
    }
   },
   "outputs": [],
   "source": [
    "\n",
    "test_dataset = ClothesDataset(cfg, \"test\", device=device)\n",
    "train_dataset = ClothesDataset(cfg, \"train\", device=device)\n",
    "\n",
    "test_dataloader = ClothesDataLoader(test_dataset, cfg.batch_size, num_workers=cfg.workers)\n",
    "train_dataloader = ClothesDataLoader(train_dataset, batch_size=cfg.batch_size, num_workers=cfg.workers)"
   ]
  },
  {
   "cell_type": "code",
   "execution_count": 10,
   "id": "d848fffc7a31f65f",
   "metadata": {
    "ExecuteTime": {
     "start_time": "2024-01-27T14:46:13.123758Z"
    },
    "collapsed": false,
    "execution": {
     "iopub.execute_input": "2024-02-04T17:24:47.212405Z",
     "iopub.status.busy": "2024-02-04T17:24:47.211859Z",
     "iopub.status.idle": "2024-02-04T17:24:47.216664Z",
     "shell.execute_reply": "2024-02-04T17:24:47.215451Z",
     "shell.execute_reply.started": "2024-02-04T17:24:47.212382Z"
    },
    "jupyter": {
     "outputs_hidden": false
    }
   },
   "outputs": [],
   "source": [
    "\n",
    "def visualize_nn_output(output, device, image_index=0):\n",
    "    output = output[image_index].squeeze().detach().cpu().numpy()\n",
    "\n",
    "    if output.shape[0] in [3, 4]:  # RGB or RGBA\n",
    "        output = np.transpose(output, (1, 2, 0))\n",
    "\n",
    "    plt.imshow(output)\n",
    "    plt.show()"
   ]
  },
  {
   "cell_type": "code",
   "execution_count": 12,
   "id": "74753775b469a835",
   "metadata": {
    "ExecuteTime": {
     "end_time": "2024-01-27T14:46:13.294102Z",
     "start_time": "2024-01-27T14:46:13.126992Z"
    },
    "collapsed": false,
    "execution": {
     "iopub.execute_input": "2024-02-04T17:24:48.962385Z",
     "iopub.status.busy": "2024-02-04T17:24:48.961767Z",
     "iopub.status.idle": "2024-02-04T17:24:48.986401Z",
     "shell.execute_reply": "2024-02-04T17:24:48.985885Z",
     "shell.execute_reply.started": "2024-02-04T17:24:48.962361Z"
    },
    "jupyter": {
     "outputs_hidden": false
    }
   },
   "outputs": [],
   "source": [
    "#model = Unet(in_channels=3, n_feat=32).to(device)\n",
    "# model = torch.load('best2.pth')"
   ]
  },
  {
   "cell_type": "code",
   "execution_count": null,
   "id": "49971562-3059-4b11-85e6-d4caeefeb5be",
   "metadata": {
    "execution": {
     "iopub.execute_input": "2024-02-04T17:24:53.729008Z",
     "iopub.status.busy": "2024-02-04T17:24:53.728421Z",
     "iopub.status.idle": "2024-02-04T17:24:56.364094Z",
     "shell.execute_reply": "2024-02-04T17:24:56.363505Z",
     "shell.execute_reply.started": "2024-02-04T17:24:53.728986Z"
    }
   },
   "outputs": [
    {
     "name": "stderr",
     "output_type": "stream",
     "text": [
      "Clipping input data to the valid range for imshow with RGB data ([0..1] for floats or [0..255] for integers).\n"
     ]
    },
    {
     "data": {
      "image/png": "[encoded data removed]",
      "text/plain": [
       "<Figure size 640x480 with 1 Axes>"
      ]
     },
     "metadata": {},
     "output_type": "display_data"
    }
   ],
   "source": [
    "inp = torch.randn(2,3,cfg.load_height,cfg.load_width).to(device) #As a sanity check, we define a random tensor with the same shape as an input image, to make sure that we can forward it to our network\n",
    "out = model(inp)\n",
    "\n",
    "visualize_nn_output(out, device)"
   ]
  },
  {
   "cell_type": "markdown",
   "id": "cdbb121f9e1f137f",
   "metadata": {},
   "source": [
    "The Train model function is the defined in the [train module from the project](https://github.com/aidl-upc-2024-clothes-extractor/clothes-extractor/blob/main/src/train.py)\n"
   ]
  },
  {
   "cell_type": "code",
   "execution_count": 11,
   "id": "bd8151e6d729b16d",
   "metadata": {
    "ExecuteTime": {
     "end_time": "2024-01-27T14:46:13.306019Z",
     "start_time": "2024-01-27T14:46:13.274021Z"
    },
    "collapsed": false,
    "execution": {
     "iopub.execute_input": "2024-02-04T17:31:13.573848Z",
     "iopub.status.busy": "2024-02-04T17:31:13.573263Z",
     "iopub.status.idle": "2024-02-04T17:31:13.577759Z",
     "shell.execute_reply": "2024-02-04T17:31:13.577144Z",
     "shell.execute_reply.started": "2024-02-04T17:31:13.573828Z"
    },
    "jupyter": {
     "outputs_hidden": false
    }
   },
   "outputs": [],
   "source": [
    "def run_model_on_image(model, device, dataset, image_index):\n",
    "    model.eval()\n",
    "    \n",
    "    image = dataset[image_index]\n",
    "    image = image[\"centered_mask_body\"].to(device).unsqueeze(0)\n",
    "\n",
    "    \n",
    "    with torch.no_grad():\n",
    "        output = model(image)\n",
    "\n",
    "    return output\n"
   ]
  },
  {
   "cell_type": "code",
   "execution_count": 16,
   "id": "bdc8bfdbcc570d6c",
   "metadata": {
    "ExecuteTime": {
     "end_time": "2024-01-27T15:06:03.458501Z",
     "start_time": "2024-01-27T14:46:13.304049Z"
    },
    "collapsed": false,
    "execution": {
     "iopub.execute_input": "2024-02-04T17:31:17.473636Z",
     "iopub.status.busy": "2024-02-04T17:31:17.473180Z"
    },
    "jupyter": {
     "outputs_hidden": false
    }
   },
   "outputs": [
    {
     "name": "stderr",
     "output_type": "stream",
     "text": [
      "/usr/local/lib/python3.9/dist-packages/torchvision/models/_utils.py:208: UserWarning: The parameter 'pretrained' is deprecated since 0.13 and will be removed in 0.15, please use 'weights' instead.\n",
      "  warnings.warn(\n",
      "/usr/local/lib/python3.9/dist-packages/torchvision/models/_utils.py:223: UserWarning: Arguments other than a weight enum or `None` for 'weights' are deprecated since 0.13 and will be removed in 0.15. The current behavior is equivalent to passing `weights=VGG16_Weights.IMAGENET1K_V1`. You can also use `weights=VGG16_Weights.DEFAULT` to get the most up-to-date weights.\n",
      "  warnings.warn(msg)\n"
     ]
    },
    {
     "name": "stdout",
     "output_type": "stream",
     "text": [
      "Start training\n"
     ]
    },
    {
     "data": {
      "application/vnd.jupyter.widget-view+json": {
       "model_id": "f6c57673335f480f859aa266a6c66454",
       "version_major": 2,
       "version_minor": 0
      },
      "text/plain": [
       "  0%|          | 0/363 [00:00<?, ?it/s]"
      ]
     },
     "metadata": {},
     "output_type": "display_data"
    },
    {
     "name": "stdout",
     "output_type": "stream",
     "text": [
      "Epoch [1/1], Train Loss: 2.3595, Validation Loss: 1.6365\n",
      "Finished Training\n"
     ]
    }
   ],
   "source": [
    "# For testing purposes (There are so many images) we can limit the number of loaded batches, 0 is no limit\n",
    "cfg.max_batches = 0\n",
    "model_store_unet_1 = model_store.ModelStore(model_name=\"unet_1\")\n",
    "model = smp.Unet(\n",
    "    encoder_name=\"efficientnet-b0\", # choose encoder, e.g. mobilenet_v2 or efficientnet-b7\n",
    "    encoder_weights=\"imagenet\",     # use `imagenet` pre-trained weights for encoder initialization\n",
    "    in_channels=3,                  # model input channels (1 for gray-scale images, 3 for RGB, etc.)\n",
    "    classes=3,                      # model output channels (number of classes in your dataset)\n",
    ").to(device)\n",
    "\n",
    "trained_model = train_model(model, device, train_dataloader, test_dataloader, cfg.num_epochs, cfg.learning_rate, cfg.max_batches, model_store=model_store_unet_1)\n"
   ]
  },
  {
   "cell_type": "code",
   "execution_count": 17,
   "id": "84d1adcb98e9e353",
   "metadata": {
    "ExecuteTime": {
     "end_time": "2024-01-27T15:06:03.462175Z",
     "start_time": "2024-01-27T15:06:03.460168Z"
    },
    "collapsed": false,
    "execution": {
     "iopub.status.busy": "2024-02-04T16:52:48.842338Z",
     "iopub.status.idle": "2024-02-04T16:52:48.842496Z",
     "shell.execute_reply": "2024-02-04T16:52:48.842431Z",
     "shell.execute_reply.started": "2024-02-04T16:52:48.842425Z"
    },
    "jupyter": {
     "outputs_hidden": false
    }
   },
   "outputs": [
    {
     "name": "stderr",
     "output_type": "stream",
     "text": [
      "Clipping input data to the valid range for imshow with RGB data ([0..1] for floats or [0..255] for integers).\n"
     ]
    },
    {
     "data": {
      "image/png": "[encoded data removed]",
      "text/plain": [
       "<Figure size 640x480 with 1 Axes>"
      ]
     },
     "metadata": {},
     "output_type": "display_data"
    }
   ],
   "source": [
    "# model = torch.load('best5.pth')\n",
    "out = run_model_on_image(model, device, train_dataset, 2)\n",
    "visualize_nn_output(out, device)"
   ]
  },
  {
   "cell_type": "code",
   "execution_count": null,
   "id": "d5616f40-a20f-49e8-a03c-51d6f3430494",
   "metadata": {
    "execution": {
     "iopub.status.busy": "2024-02-04T16:52:48.843106Z",
     "iopub.status.idle": "2024-02-04T16:52:48.843271Z",
     "shell.execute_reply": "2024-02-04T16:52:48.843197Z",
     "shell.execute_reply.started": "2024-02-04T16:52:48.843188Z"
    }
   },
   "outputs": [],
   "source": [
    "torch.save(model, 'best5.pth')"
   ]
  },
  {
   "cell_type": "code",
   "execution_count": null,
   "id": "c2d5cf8c0c647854",
   "metadata": {
    "ExecuteTime": {
     "start_time": "2024-01-27T15:06:03.461434Z"
    },
    "collapsed": false,
    "execution": {
     "iopub.status.busy": "2024-02-04T16:52:48.844316Z",
     "iopub.status.idle": "2024-02-04T16:52:48.844512Z",
     "shell.execute_reply": "2024-02-04T16:52:48.844415Z",
     "shell.execute_reply.started": "2024-02-04T16:52:48.844404Z"
    },
    "jupyter": {
     "outputs_hidden": false
    }
   },
   "outputs": [],
   "source": [
    "# Hack for reloading an updated python module\n",
    "from models.unet import Unet\n",
    "import importlib\n",
    "importlib.reload(Unet)"
   ]
  }
 ],
 "metadata": {
  "kernelspec": {
   "display_name": "Python 3 (ipykernel)",
   "language": "python",
   "name": "python3"
  },
  "language_info": {
   "codemirror_mode": {
    "name": "ipython",
    "version": 3
   },
   "file_extension": ".py",
   "mimetype": "text/x-python",
   "name": "python",
   "nbconvert_exporter": "python",
   "pygments_lexer": "ipython3",
   "version": "3.9.16"
  }
 },
 "nbformat": 4,
 "nbformat_minor": 5
}
